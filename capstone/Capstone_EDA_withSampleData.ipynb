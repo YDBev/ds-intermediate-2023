{
 "cells": [
  {
   "cell_type": "markdown",
   "id": "bd9003e8",
   "metadata": {
    "hide_input": false
   },
   "source": [
    "# Capstone - Loan Status Prediction"
   ]
  },
  {
   "cell_type": "markdown",
   "id": "f43b8402",
   "metadata": {},
   "source": [
    "**Goal**: Build machine learning model(s) to predict loan status as target: if a loan will be charged-off (1), or stay current/are paid off (0). "
   ]
  },
  {
   "cell_type": "code",
   "execution_count": 1,
   "id": "bedbbbb5",
   "metadata": {
    "ExecuteTime": {
     "end_time": "2023-02-17T01:34:13.387923Z",
     "start_time": "2023-02-17T01:34:13.378617Z"
    },
    "scrolled": true
   },
   "outputs": [],
   "source": [
    "# Get path \n",
    "import os\n",
    "from pathlib import Path # get path\n",
    "\n",
    "# Data wrangling\n",
    "import pandas as pd\n",
    "import numpy as np \n",
    "import matplotlib.pyplot as plt\n",
    "# Report\n",
    "\n",
    "\n",
    "# ML model building\n",
    "\n",
    "# Decision Tree\n",
    "from sklearn import preprocessing\n",
    "from sklearn import metrics\n",
    "from sklearn.model_selection import train_test_split\n",
    "from sklearn.tree import DecisionTreeClassifier\n",
    "from sklearn.ensemble import RandomForestClassifier\n",
    "from sklearn.metrics import roc_auc_score\n",
    "from xgboost import XGBClassifier\n",
    "# from dmba import plotDecisionTree, textDecisionTree # tree visualization\n",
    "\n",
    "\n",
    "# Logistic regression\n",
    "from sklearn.metrics import classification_report\n",
    "\n",
    "\n",
    "\n",
    "import pydotplus\n"
   ]
  },
  {
   "cell_type": "code",
   "execution_count": 2,
   "id": "5a216c7c",
   "metadata": {
    "ExecuteTime": {
     "end_time": "2023-02-17T01:40:56.735880Z",
     "start_time": "2023-02-17T01:40:36.244586Z"
    }
   },
   "outputs": [],
   "source": [
    "# load dataset\n",
    "train = pd.read_csv('trn_sample_3pct.csv')"
   ]
  },
  {
   "cell_type": "code",
   "execution_count": 3,
   "id": "fa6d13a1",
   "metadata": {},
   "outputs": [
    {
     "data": {
      "text/plain": [
       "WindowsPath('C:/Users/dengbo.yang/OneDrive - Thermo Fisher Scientific/DS/DSproj/ds-intermediate-2023/capstone')"
      ]
     },
     "execution_count": 3,
     "metadata": {},
     "output_type": "execute_result"
    }
   ],
   "source": [
    "Path('.').resolve()"
   ]
  },
  {
   "cell_type": "code",
   "execution_count": 4,
   "id": "f61c26cf",
   "metadata": {
    "ExecuteTime": {
     "end_time": "2023-02-17T01:40:56.773224Z",
     "start_time": "2023-02-17T01:40:56.755713Z"
    }
   },
   "outputs": [
    {
     "data": {
      "text/html": [
       "<div>\n",
       "<style scoped>\n",
       "    .dataframe tbody tr th:only-of-type {\n",
       "        vertical-align: middle;\n",
       "    }\n",
       "\n",
       "    .dataframe tbody tr th {\n",
       "        vertical-align: top;\n",
       "    }\n",
       "\n",
       "    .dataframe thead th {\n",
       "        text-align: right;\n",
       "    }\n",
       "</style>\n",
       "<table border=\"1\" class=\"dataframe\">\n",
       "  <thead>\n",
       "    <tr style=\"text-align: right;\">\n",
       "      <th></th>\n",
       "      <th>Unnamed: 0</th>\n",
       "      <th>loan_amnt</th>\n",
       "      <th>funded_amnt</th>\n",
       "      <th>funded_amnt_inv</th>\n",
       "      <th>term</th>\n",
       "      <th>int_rate</th>\n",
       "      <th>installment</th>\n",
       "      <th>grade</th>\n",
       "      <th>sub_grade</th>\n",
       "      <th>emp_title</th>\n",
       "      <th>...</th>\n",
       "      <th>percent_bc_gt_75</th>\n",
       "      <th>pub_rec_bankruptcies</th>\n",
       "      <th>tax_liens</th>\n",
       "      <th>tot_hi_cred_lim</th>\n",
       "      <th>total_bal_ex_mort</th>\n",
       "      <th>total_bc_limit</th>\n",
       "      <th>total_il_high_credit_limit</th>\n",
       "      <th>hardship_flag</th>\n",
       "      <th>disbursement_method</th>\n",
       "      <th>debt_settlement_flag</th>\n",
       "    </tr>\n",
       "  </thead>\n",
       "  <tbody>\n",
       "    <tr>\n",
       "      <th>0</th>\n",
       "      <td>442930</td>\n",
       "      <td>21000</td>\n",
       "      <td>21000</td>\n",
       "      <td>21000.0</td>\n",
       "      <td>60 months</td>\n",
       "      <td>19.42</td>\n",
       "      <td>549.62</td>\n",
       "      <td>D</td>\n",
       "      <td>D3</td>\n",
       "      <td>Bookkeeping &amp; Payroll Manager</td>\n",
       "      <td>...</td>\n",
       "      <td>37.5</td>\n",
       "      <td>0.0</td>\n",
       "      <td>0.0</td>\n",
       "      <td>135234.0</td>\n",
       "      <td>111172.0</td>\n",
       "      <td>12400.0</td>\n",
       "      <td>105434.0</td>\n",
       "      <td>N</td>\n",
       "      <td>Cash</td>\n",
       "      <td>N</td>\n",
       "    </tr>\n",
       "    <tr>\n",
       "      <th>1</th>\n",
       "      <td>1346482</td>\n",
       "      <td>18000</td>\n",
       "      <td>18000</td>\n",
       "      <td>18000.0</td>\n",
       "      <td>36 months</td>\n",
       "      <td>16.02</td>\n",
       "      <td>633.01</td>\n",
       "      <td>C</td>\n",
       "      <td>C5</td>\n",
       "      <td>Restaurant manager</td>\n",
       "      <td>...</td>\n",
       "      <td>50.0</td>\n",
       "      <td>0.0</td>\n",
       "      <td>0.0</td>\n",
       "      <td>167962.0</td>\n",
       "      <td>28696.0</td>\n",
       "      <td>11700.0</td>\n",
       "      <td>17208.0</td>\n",
       "      <td>N</td>\n",
       "      <td>Cash</td>\n",
       "      <td>N</td>\n",
       "    </tr>\n",
       "    <tr>\n",
       "      <th>2</th>\n",
       "      <td>119122</td>\n",
       "      <td>15100</td>\n",
       "      <td>15100</td>\n",
       "      <td>15100.0</td>\n",
       "      <td>60 months</td>\n",
       "      <td>24.99</td>\n",
       "      <td>443.12</td>\n",
       "      <td>F</td>\n",
       "      <td>F4</td>\n",
       "      <td>Officer</td>\n",
       "      <td>...</td>\n",
       "      <td>66.7</td>\n",
       "      <td>0.0</td>\n",
       "      <td>0.0</td>\n",
       "      <td>61625.0</td>\n",
       "      <td>53750.0</td>\n",
       "      <td>5600.0</td>\n",
       "      <td>47225.0</td>\n",
       "      <td>N</td>\n",
       "      <td>Cash</td>\n",
       "      <td>N</td>\n",
       "    </tr>\n",
       "    <tr>\n",
       "      <th>3</th>\n",
       "      <td>369217</td>\n",
       "      <td>10000</td>\n",
       "      <td>10000</td>\n",
       "      <td>10000.0</td>\n",
       "      <td>36 months</td>\n",
       "      <td>15.49</td>\n",
       "      <td>349.06</td>\n",
       "      <td>C</td>\n",
       "      <td>C4</td>\n",
       "      <td>NaN</td>\n",
       "      <td>...</td>\n",
       "      <td>80.0</td>\n",
       "      <td>0.0</td>\n",
       "      <td>0.0</td>\n",
       "      <td>16500.0</td>\n",
       "      <td>12232.0</td>\n",
       "      <td>11600.0</td>\n",
       "      <td>0.0</td>\n",
       "      <td>N</td>\n",
       "      <td>Cash</td>\n",
       "      <td>N</td>\n",
       "    </tr>\n",
       "    <tr>\n",
       "      <th>4</th>\n",
       "      <td>1484086</td>\n",
       "      <td>6625</td>\n",
       "      <td>6625</td>\n",
       "      <td>6625.0</td>\n",
       "      <td>36 months</td>\n",
       "      <td>15.10</td>\n",
       "      <td>229.99</td>\n",
       "      <td>C</td>\n",
       "      <td>C2</td>\n",
       "      <td>Painter</td>\n",
       "      <td>...</td>\n",
       "      <td>25.0</td>\n",
       "      <td>0.0</td>\n",
       "      <td>0.0</td>\n",
       "      <td>270769.0</td>\n",
       "      <td>43408.0</td>\n",
       "      <td>12700.0</td>\n",
       "      <td>39589.0</td>\n",
       "      <td>N</td>\n",
       "      <td>Cash</td>\n",
       "      <td>N</td>\n",
       "    </tr>\n",
       "  </tbody>\n",
       "</table>\n",
       "<p>5 rows × 108 columns</p>\n",
       "</div>"
      ],
      "text/plain": [
       "   Unnamed: 0  loan_amnt  funded_amnt  funded_amnt_inv        term  int_rate  \\\n",
       "0      442930      21000        21000          21000.0   60 months     19.42   \n",
       "1     1346482      18000        18000          18000.0   36 months     16.02   \n",
       "2      119122      15100        15100          15100.0   60 months     24.99   \n",
       "3      369217      10000        10000          10000.0   36 months     15.49   \n",
       "4     1484086       6625         6625           6625.0   36 months     15.10   \n",
       "\n",
       "   installment grade sub_grade                      emp_title  ...  \\\n",
       "0       549.62     D        D3  Bookkeeping & Payroll Manager  ...   \n",
       "1       633.01     C        C5            Restaurant manager   ...   \n",
       "2       443.12     F        F4                        Officer  ...   \n",
       "3       349.06     C        C4                            NaN  ...   \n",
       "4       229.99     C        C2                        Painter  ...   \n",
       "\n",
       "  percent_bc_gt_75 pub_rec_bankruptcies  tax_liens tot_hi_cred_lim  \\\n",
       "0             37.5                  0.0        0.0        135234.0   \n",
       "1             50.0                  0.0        0.0        167962.0   \n",
       "2             66.7                  0.0        0.0         61625.0   \n",
       "3             80.0                  0.0        0.0         16500.0   \n",
       "4             25.0                  0.0        0.0        270769.0   \n",
       "\n",
       "  total_bal_ex_mort total_bc_limit total_il_high_credit_limit hardship_flag  \\\n",
       "0          111172.0        12400.0                   105434.0             N   \n",
       "1           28696.0        11700.0                    17208.0             N   \n",
       "2           53750.0         5600.0                    47225.0             N   \n",
       "3           12232.0        11600.0                        0.0             N   \n",
       "4           43408.0        12700.0                    39589.0             N   \n",
       "\n",
       "  disbursement_method debt_settlement_flag  \n",
       "0                Cash                    N  \n",
       "1                Cash                    N  \n",
       "2                Cash                    N  \n",
       "3                Cash                    N  \n",
       "4                Cash                    N  \n",
       "\n",
       "[5 rows x 108 columns]"
      ]
     },
     "execution_count": 4,
     "metadata": {},
     "output_type": "execute_result"
    }
   ],
   "source": [
    "train.head()"
   ]
  },
  {
   "cell_type": "code",
   "execution_count": 5,
   "id": "2a83e972",
   "metadata": {
    "ExecuteTime": {
     "end_time": "2023-02-16T03:55:54.657394Z",
     "start_time": "2023-02-16T03:55:54.654572Z"
    }
   },
   "outputs": [
    {
     "data": {
      "text/plain": [
       "(54813, 108)"
      ]
     },
     "execution_count": 5,
     "metadata": {},
     "output_type": "execute_result"
    }
   ],
   "source": [
    "train.shape"
   ]
  },
  {
   "cell_type": "code",
   "execution_count": 6,
   "id": "b98e8470",
   "metadata": {
    "ExecuteTime": {
     "end_time": "2023-02-16T03:55:54.662175Z",
     "start_time": "2023-02-16T03:55:54.658507Z"
    }
   },
   "outputs": [
    {
     "data": {
      "text/plain": [
       "['Unnamed: 0',\n",
       " 'loan_amnt',\n",
       " 'funded_amnt',\n",
       " 'funded_amnt_inv',\n",
       " 'term',\n",
       " 'int_rate',\n",
       " 'installment',\n",
       " 'grade',\n",
       " 'sub_grade',\n",
       " 'emp_title',\n",
       " 'emp_length',\n",
       " 'home_ownership',\n",
       " 'annual_inc',\n",
       " 'verification_status',\n",
       " 'issue_d',\n",
       " 'loan_status',\n",
       " 'pymnt_plan',\n",
       " 'purpose',\n",
       " 'title',\n",
       " 'zip_code',\n",
       " 'addr_state',\n",
       " 'dti',\n",
       " 'delinq_2yrs',\n",
       " 'earliest_cr_line',\n",
       " 'inq_last_6mths',\n",
       " 'mths_since_last_delinq',\n",
       " 'mths_since_last_record',\n",
       " 'open_acc',\n",
       " 'pub_rec',\n",
       " 'revol_bal',\n",
       " 'revol_util',\n",
       " 'total_acc',\n",
       " 'initial_list_status',\n",
       " 'out_prncp',\n",
       " 'out_prncp_inv',\n",
       " 'total_pymnt',\n",
       " 'total_pymnt_inv',\n",
       " 'total_rec_prncp',\n",
       " 'total_rec_int',\n",
       " 'total_rec_late_fee',\n",
       " 'recoveries',\n",
       " 'collection_recovery_fee',\n",
       " 'last_pymnt_d',\n",
       " 'last_pymnt_amnt',\n",
       " 'next_pymnt_d',\n",
       " 'last_credit_pull_d',\n",
       " 'collections_12_mths_ex_med',\n",
       " 'mths_since_last_major_derog',\n",
       " 'policy_code',\n",
       " 'application_type',\n",
       " 'acc_now_delinq',\n",
       " 'tot_coll_amt',\n",
       " 'tot_cur_bal',\n",
       " 'open_acc_6m',\n",
       " 'open_act_il',\n",
       " 'open_il_12m',\n",
       " 'open_il_24m',\n",
       " 'mths_since_rcnt_il',\n",
       " 'total_bal_il',\n",
       " 'il_util',\n",
       " 'open_rv_12m',\n",
       " 'open_rv_24m',\n",
       " 'max_bal_bc',\n",
       " 'all_util',\n",
       " 'total_rev_hi_lim',\n",
       " 'inq_fi',\n",
       " 'total_cu_tl',\n",
       " 'inq_last_12m',\n",
       " 'acc_open_past_24mths',\n",
       " 'avg_cur_bal',\n",
       " 'bc_open_to_buy',\n",
       " 'bc_util',\n",
       " 'chargeoff_within_12_mths',\n",
       " 'delinq_amnt',\n",
       " 'mo_sin_old_il_acct',\n",
       " 'mo_sin_old_rev_tl_op',\n",
       " 'mo_sin_rcnt_rev_tl_op',\n",
       " 'mo_sin_rcnt_tl',\n",
       " 'mort_acc',\n",
       " 'mths_since_recent_bc',\n",
       " 'mths_since_recent_bc_dlq',\n",
       " 'mths_since_recent_inq',\n",
       " 'mths_since_recent_revol_delinq',\n",
       " 'num_accts_ever_120_pd',\n",
       " 'num_actv_bc_tl',\n",
       " 'num_actv_rev_tl',\n",
       " 'num_bc_sats',\n",
       " 'num_bc_tl',\n",
       " 'num_il_tl',\n",
       " 'num_op_rev_tl',\n",
       " 'num_rev_accts',\n",
       " 'num_rev_tl_bal_gt_0',\n",
       " 'num_sats',\n",
       " 'num_tl_120dpd_2m',\n",
       " 'num_tl_30dpd',\n",
       " 'num_tl_90g_dpd_24m',\n",
       " 'num_tl_op_past_12m',\n",
       " 'pct_tl_nvr_dlq',\n",
       " 'percent_bc_gt_75',\n",
       " 'pub_rec_bankruptcies',\n",
       " 'tax_liens',\n",
       " 'tot_hi_cred_lim',\n",
       " 'total_bal_ex_mort',\n",
       " 'total_bc_limit',\n",
       " 'total_il_high_credit_limit',\n",
       " 'hardship_flag',\n",
       " 'disbursement_method',\n",
       " 'debt_settlement_flag']"
      ]
     },
     "execution_count": 6,
     "metadata": {},
     "output_type": "execute_result"
    }
   ],
   "source": [
    "train.columns.tolist()"
   ]
  },
  {
   "cell_type": "markdown",
   "id": "65b9f389",
   "metadata": {},
   "source": [
    "Get rid of attributes only has fewer than 10% data "
   ]
  },
  {
   "cell_type": "markdown",
   "id": "1fd13e0b",
   "metadata": {},
   "source": [
    "## Create modified Training dataset - trn \n",
    "1. remove >90% missing data columns\n",
    "2. one-hot encoding for target variable: 0='charged off', 1='Fully paid' or 'Current'"
   ]
  },
  {
   "cell_type": "code",
   "execution_count": 7,
   "id": "6182a51c",
   "metadata": {
    "ExecuteTime": {
     "end_time": "2023-02-16T03:56:05.517188Z",
     "start_time": "2023-02-16T03:56:01.652174Z"
    }
   },
   "outputs": [],
   "source": [
    "trn = train.copy() # original Dataset .drop(columns=na_tally[na_tally>train.shape[0]*0.9].index)"
   ]
  },
  {
   "cell_type": "code",
   "execution_count": 8,
   "id": "71845e98",
   "metadata": {
    "ExecuteTime": {
     "end_time": "2023-02-16T03:56:09.454153Z",
     "start_time": "2023-02-16T03:56:09.451505Z"
    }
   },
   "outputs": [
    {
     "data": {
      "text/plain": [
       "(54813, 108)"
      ]
     },
     "execution_count": 8,
     "metadata": {},
     "output_type": "execute_result"
    }
   ],
   "source": [
    "trn.shape"
   ]
  },
  {
   "cell_type": "code",
   "execution_count": 9,
   "id": "81971ae9",
   "metadata": {
    "ExecuteTime": {
     "end_time": "2023-02-16T03:56:09.459359Z",
     "start_time": "2023-02-16T03:56:09.455260Z"
    }
   },
   "outputs": [
    {
     "data": {
      "text/plain": [
       "['Unnamed: 0',\n",
       " 'loan_amnt',\n",
       " 'funded_amnt',\n",
       " 'funded_amnt_inv',\n",
       " 'term',\n",
       " 'int_rate',\n",
       " 'installment',\n",
       " 'grade',\n",
       " 'sub_grade',\n",
       " 'emp_title',\n",
       " 'emp_length',\n",
       " 'home_ownership',\n",
       " 'annual_inc',\n",
       " 'verification_status',\n",
       " 'issue_d',\n",
       " 'loan_status',\n",
       " 'pymnt_plan',\n",
       " 'purpose',\n",
       " 'title',\n",
       " 'zip_code',\n",
       " 'addr_state',\n",
       " 'dti',\n",
       " 'delinq_2yrs',\n",
       " 'earliest_cr_line',\n",
       " 'inq_last_6mths',\n",
       " 'mths_since_last_delinq',\n",
       " 'mths_since_last_record',\n",
       " 'open_acc',\n",
       " 'pub_rec',\n",
       " 'revol_bal',\n",
       " 'revol_util',\n",
       " 'total_acc',\n",
       " 'initial_list_status',\n",
       " 'out_prncp',\n",
       " 'out_prncp_inv',\n",
       " 'total_pymnt',\n",
       " 'total_pymnt_inv',\n",
       " 'total_rec_prncp',\n",
       " 'total_rec_int',\n",
       " 'total_rec_late_fee',\n",
       " 'recoveries',\n",
       " 'collection_recovery_fee',\n",
       " 'last_pymnt_d',\n",
       " 'last_pymnt_amnt',\n",
       " 'next_pymnt_d',\n",
       " 'last_credit_pull_d',\n",
       " 'collections_12_mths_ex_med',\n",
       " 'mths_since_last_major_derog',\n",
       " 'policy_code',\n",
       " 'application_type',\n",
       " 'acc_now_delinq',\n",
       " 'tot_coll_amt',\n",
       " 'tot_cur_bal',\n",
       " 'open_acc_6m',\n",
       " 'open_act_il',\n",
       " 'open_il_12m',\n",
       " 'open_il_24m',\n",
       " 'mths_since_rcnt_il',\n",
       " 'total_bal_il',\n",
       " 'il_util',\n",
       " 'open_rv_12m',\n",
       " 'open_rv_24m',\n",
       " 'max_bal_bc',\n",
       " 'all_util',\n",
       " 'total_rev_hi_lim',\n",
       " 'inq_fi',\n",
       " 'total_cu_tl',\n",
       " 'inq_last_12m',\n",
       " 'acc_open_past_24mths',\n",
       " 'avg_cur_bal',\n",
       " 'bc_open_to_buy',\n",
       " 'bc_util',\n",
       " 'chargeoff_within_12_mths',\n",
       " 'delinq_amnt',\n",
       " 'mo_sin_old_il_acct',\n",
       " 'mo_sin_old_rev_tl_op',\n",
       " 'mo_sin_rcnt_rev_tl_op',\n",
       " 'mo_sin_rcnt_tl',\n",
       " 'mort_acc',\n",
       " 'mths_since_recent_bc',\n",
       " 'mths_since_recent_bc_dlq',\n",
       " 'mths_since_recent_inq',\n",
       " 'mths_since_recent_revol_delinq',\n",
       " 'num_accts_ever_120_pd',\n",
       " 'num_actv_bc_tl',\n",
       " 'num_actv_rev_tl',\n",
       " 'num_bc_sats',\n",
       " 'num_bc_tl',\n",
       " 'num_il_tl',\n",
       " 'num_op_rev_tl',\n",
       " 'num_rev_accts',\n",
       " 'num_rev_tl_bal_gt_0',\n",
       " 'num_sats',\n",
       " 'num_tl_120dpd_2m',\n",
       " 'num_tl_30dpd',\n",
       " 'num_tl_90g_dpd_24m',\n",
       " 'num_tl_op_past_12m',\n",
       " 'pct_tl_nvr_dlq',\n",
       " 'percent_bc_gt_75',\n",
       " 'pub_rec_bankruptcies',\n",
       " 'tax_liens',\n",
       " 'tot_hi_cred_lim',\n",
       " 'total_bal_ex_mort',\n",
       " 'total_bc_limit',\n",
       " 'total_il_high_credit_limit',\n",
       " 'hardship_flag',\n",
       " 'disbursement_method',\n",
       " 'debt_settlement_flag']"
      ]
     },
     "execution_count": 9,
     "metadata": {},
     "output_type": "execute_result"
    }
   ],
   "source": [
    "trn_coln = trn.columns\n",
    "trn_coln.tolist()"
   ]
  },
  {
   "cell_type": "code",
   "execution_count": 10,
   "id": "2506a69f",
   "metadata": {
    "ExecuteTime": {
     "end_time": "2023-02-16T03:56:08.878705Z",
     "start_time": "2023-02-16T03:56:05.522587Z"
    }
   },
   "outputs": [],
   "source": [
    "###### optional to run #########\n",
    "# sample a 5_pct dataset to investigate \n",
    "# trn_sample_3pct = trn.sample(n = int(trn.shape[0]*0.03), replace = False, random_state=2) # 91356\n",
    "# trn_sample_3pct.to_csv('trn_sample_3pct.csv')  "
   ]
  },
  {
   "cell_type": "code",
   "execution_count": 11,
   "id": "2d536fbd",
   "metadata": {
    "ExecuteTime": {
     "end_time": "2023-02-16T03:56:09.473669Z",
     "start_time": "2023-02-16T03:56:09.460675Z"
    }
   },
   "outputs": [
    {
     "name": "stdout",
     "output_type": "stream",
     "text": [
      "<class 'pandas.core.frame.DataFrame'>\n",
      "RangeIndex: 54813 entries, 0 to 54812\n",
      "Columns: 108 entries, Unnamed: 0 to debt_settlement_flag\n",
      "dtypes: float64(80), int64(5), object(23)\n",
      "memory usage: 45.2+ MB\n"
     ]
    }
   ],
   "source": [
    "trn.info()"
   ]
  },
  {
   "cell_type": "markdown",
   "id": "a9548aec",
   "metadata": {},
   "source": [
    "## EDA \n",
    "bar, histogram and bar/target, hist/targert"
   ]
  },
  {
   "cell_type": "markdown",
   "id": "1793e70b",
   "metadata": {},
   "source": [
    "all_util: Balance to credit limit on all trades\n",
    "\n",
    "annual_inc: The self-reported annual income provided by the borrower during registration.\n",
    "\n",
    "avg_cur_bal: Average current balance of all accounts\n",
    "\n",
    "bc_util: Ratio of total current balance to high credit/credit limit for all bankcard accounts.\n",
    "\n",
    "chargeoff_within_12_mths: Number of charge-offs within 12 months\n",
    "\n",
    "delinq_2yrs: The number of 30+ days past-due incidences of delinquency in the borrower's credit file for the past 2 years\n",
    "\n",
    "delinq_amnt: The past-due amount owed for the accounts on which the borrower is now delinquent.\n",
    "\n",
    "dti: A ratio calculated using the borrower’s total monthly debt payments on the total debt obligations, excluding mortgage and the requested loan, divided by the borrower’s self-reported monthly income.\n",
    "\n",
    "emp_length: Employment length in years. Possible values are between 0 and 10 where 0 means less than one year and 10 means ten or more years. \n",
    "\n",
    "emp_title: The job title supplied by the Borrower when applying for the loan.*\n",
    "\n",
    "grade: assigned loan grade\n",
    "\n",
    "hardship_flag: Flags whether or not the borrower is on a hardship plan\n",
    "\n",
    "il_util: Ratio of total current balance to high credit/credit limit on all install acct\n",
    "\n",
    "inq_fi: Number of personal finance inquiries\n",
    "\n",
    "loan_amnt: The listed amount of the loan applied for by the borrower. If at some point in time, the credit department reduces the loan amount, then it will be reflected in this value.\n",
    "\n",
    "max_bal_bc: Maximum current balance owed on all revolving accounts\n",
    "\n",
    "mort_acc: Number of mortgage accounts.\n",
    "\n",
    "mths_since_last_delinq: The number of months since the borrower's last delinquency.\n",
    "\n",
    "pct_tl_nvr_dlq: Percent of trades never delinquent\n",
    "\n",
    "percent_bc_gt_75: Percentage of all bankcard accounts > 75% of limit.\n",
    "\n",
    "pub_rec: Number of derogatory public records\n",
    "\n",
    "pub_rec_bankruptcies: Number of public record bankruptcies\n",
    "\n",
    "revol_bal: post charge off gross recovery\n",
    "\n",
    "revol_util: Total credit revolving balance\n",
    "\n",
    "tot_coll_amt: Total collection amounts ever owed\n",
    "\n",
    "tot_cur_bal: Total current balance of all accounts\n",
    "\n",
    "tot_hi_cred_lim: Total high credit/credit limit\n",
    "\n",
    "total_acc: The total number of credit lines currently in the borrower's credit file\n",
    "\n",
    "total_rev_hi_lim: Total revolving high credit/credit limit\n",
    "\n"
   ]
  },
  {
   "cell_type": "code",
   "execution_count": 12,
   "id": "f3e89b3d",
   "metadata": {
    "ExecuteTime": {
     "end_time": "2023-02-16T03:56:09.450331Z",
     "start_time": "2023-02-16T03:56:08.880597Z"
    }
   },
   "outputs": [
    {
     "name": "stdout",
     "output_type": "stream",
     "text": [
      "['Fully Paid' 'Charged Off' 'Current']\n",
      "Paid off event rate is: 0.9279003156185577\n"
     ]
    }
   ],
   "source": [
    "# target variable and transformation\n",
    "print(trn['loan_status'].unique())\n",
    "\n",
    "trn['loan_status_dv'] = [1 if loan_status=='Fully Paid'or loan_status=='Current' else 0 for loan_status in trn['loan_status']]\n",
    "print(\"Paid off event rate is: {}\".format(trn['loan_status_dv'].mean()))"
   ]
  },
  {
   "cell_type": "code",
   "execution_count": 13,
   "id": "8a3ef54e",
   "metadata": {},
   "outputs": [],
   "source": [
    "# check og dataset target variable counts\n",
    "# trn['loan_status'].value_counts()"
   ]
  },
  {
   "cell_type": "code",
   "execution_count": 14,
   "id": "eeaf3919",
   "metadata": {},
   "outputs": [
    {
     "data": {
      "text/plain": [
       "1    50861\n",
       "0     3952\n",
       "Name: loan_status_dv, dtype: int64"
      ]
     },
     "execution_count": 14,
     "metadata": {},
     "output_type": "execute_result"
    }
   ],
   "source": [
    "trn['loan_status_dv'].value_counts()"
   ]
  },
  {
   "cell_type": "code",
   "execution_count": 15,
   "id": "21fc5b33",
   "metadata": {},
   "outputs": [],
   "source": [
    "def_trn = trn[trn['loan_status_dv']==0]"
   ]
  },
  {
   "cell_type": "markdown",
   "id": "68cc2838",
   "metadata": {},
   "source": [
    "Investigate region and grade of loans"
   ]
  },
  {
   "cell_type": "code",
   "execution_count": 16,
   "id": "07bb7188",
   "metadata": {},
   "outputs": [
    {
     "data": {
      "text/plain": [
       "50"
      ]
     },
     "execution_count": 16,
     "metadata": {},
     "output_type": "execute_result"
    }
   ],
   "source": [
    "len(def_trn['addr_state'].unique())"
   ]
  },
  {
   "cell_type": "code",
   "execution_count": 17,
   "id": "132d822b",
   "metadata": {},
   "outputs": [
    {
     "data": {
      "text/plain": [
       "CA    0.138380\n",
       "TX    0.082462\n",
       "NY    0.080693\n",
       "FL    0.070622\n",
       "IL    0.039717\n",
       "NJ    0.036725\n",
       "PA    0.034663\n",
       "OH    0.033952\n",
       "GA    0.032638\n",
       "VA    0.027530\n",
       "Name: addr_state, dtype: float64"
      ]
     },
     "execution_count": 17,
     "metadata": {},
     "output_type": "execute_result"
    }
   ],
   "source": [
    "trn['addr_state'].value_counts(normalize=True).head(10)  # normalize=True"
   ]
  },
  {
   "cell_type": "code",
   "execution_count": 18,
   "id": "f82fbce2",
   "metadata": {},
   "outputs": [
    {
     "data": {
      "text/plain": [
       "CA    0.150051\n",
       "NY    0.084008\n",
       "FL    0.079200\n",
       "TX    0.077176\n",
       "NJ    0.038209\n",
       "Name: addr_state, dtype: float64"
      ]
     },
     "execution_count": 18,
     "metadata": {},
     "output_type": "execute_result"
    }
   ],
   "source": [
    "def_trn['addr_state'].value_counts(normalize=True).head(5)# normalize=True"
   ]
  },
  {
   "cell_type": "code",
   "execution_count": 19,
   "id": "07c865c9",
   "metadata": {},
   "outputs": [
    {
     "data": {
      "text/plain": [
       "(array([1454.,  463.,  423.,  369.,  192.,  597.,  176.,  158.,   77.,\n",
       "          43.]),\n",
       " array([ 0. ,  4.9,  9.8, 14.7, 19.6, 24.5, 29.4, 34.3, 39.2, 44.1, 49. ]),\n",
       " <BarContainer object of 10 artists>)"
      ]
     },
     "execution_count": 19,
     "metadata": {},
     "output_type": "execute_result"
    },
    {
     "data": {
      "image/png": "[encoded data removed]",
      "text/plain": [
       "<Figure size 640x480 with 1 Axes>"
      ]
     },
     "metadata": {},
     "output_type": "display_data"
    }
   ],
   "source": [
    "plt.hist(def_trn['addr_state']) # 'zip_code'"
   ]
  },
  {
   "cell_type": "markdown",
   "id": "00a204c8",
   "metadata": {},
   "source": [
    "bc_util\n",
    "chargeoff_within_12_mths\n",
    "grade\n",
    "loan_amnt\n",
    "max_bal_bc\n"
   ]
  },
  {
   "cell_type": "markdown",
   "id": "9eb559f5",
   "metadata": {},
   "source": [
    "Most common default loan grade: C\n",
    "\n",
    "Top 5 subgrades are all grade C"
   ]
  },
  {
   "cell_type": "code",
   "execution_count": 20,
   "id": "c41df128",
   "metadata": {},
   "outputs": [
    {
     "data": {
      "text/plain": [
       "C    1293\n",
       "D     873\n",
       "B     753\n",
       "E     565\n",
       "A     200\n",
       "F     194\n",
       "G      74\n",
       "Name: grade, dtype: int64"
      ]
     },
     "execution_count": 20,
     "metadata": {},
     "output_type": "execute_result"
    }
   ],
   "source": [
    "def_trn['grade'].value_counts()\n",
    "# def_trn['sub_grade'].value_counts() "
   ]
  },
  {
   "cell_type": "markdown",
   "id": "4a7af9c6",
   "metadata": {},
   "source": [
    "joint borrower application affect defaulting?"
   ]
  },
  {
   "cell_type": "code",
   "execution_count": 21,
   "id": "62895b3e",
   "metadata": {},
   "outputs": [
    {
     "data": {
      "text/plain": [
       "Individual    3866\n",
       "Joint App       86\n",
       "Name: application_type, dtype: int64"
      ]
     },
     "execution_count": 21,
     "metadata": {},
     "output_type": "execute_result"
    }
   ],
   "source": [
    "def_trn['application_type'].value_counts()"
   ]
  },
  {
   "cell_type": "code",
   "execution_count": 22,
   "id": "cf865244",
   "metadata": {},
   "outputs": [
    {
     "name": "stdout",
     "output_type": "stream",
     "text": [
      "0.028122956180510136\n",
      "0.07469809680224133\n"
     ]
    }
   ],
   "source": [
    "print(def_trn['application_type'].value_counts()[1] / trn['application_type'].value_counts()[1]) # joint default rate\n",
    "print(def_trn['application_type'].value_counts()[0] / trn['application_type'].value_counts()[0]) # individual default rate"
   ]
  },
  {
   "cell_type": "markdown",
   "id": "151d64da",
   "metadata": {},
   "source": [
    "purpose of the loan?"
   ]
  },
  {
   "cell_type": "code",
   "execution_count": 23,
   "id": "e6eb6d66",
   "metadata": {},
   "outputs": [
    {
     "data": {
      "text/plain": [
       "debt_consolidation    2461\n",
       "credit_card            769\n",
       "home_improvement       231\n",
       "other                  226\n",
       "major_purchase          65\n",
       "small_business          60\n",
       "medical                 46\n",
       "vacation                27\n",
       "moving                  24\n",
       "car                     23\n",
       "house                   15\n",
       "renewable_energy         3\n",
       "wedding                  2\n",
       "Name: purpose, dtype: int64"
      ]
     },
     "execution_count": 23,
     "metadata": {},
     "output_type": "execute_result"
    }
   ],
   "source": [
    "def_trn['purpose'].value_counts()"
   ]
  },
  {
   "cell_type": "code",
   "execution_count": 24,
   "id": "e517b88e",
   "metadata": {},
   "outputs": [
    {
     "data": {
      "text/plain": [
       "debt_consolidation    30873\n",
       "credit_card           12774\n",
       "home_improvement       3784\n",
       "other                  3351\n",
       "major_purchase         1199\n",
       "medical                 638\n",
       "car                     603\n",
       "small_business          537\n",
       "vacation                342\n",
       "house                   336\n",
       "moving                  331\n",
       "renewable_energy         28\n",
       "wedding                  17\n",
       "Name: purpose, dtype: int64"
      ]
     },
     "execution_count": 24,
     "metadata": {},
     "output_type": "execute_result"
    }
   ],
   "source": [
    "trn['purpose'].value_counts()"
   ]
  },
  {
   "cell_type": "markdown",
   "id": "102ee73e",
   "metadata": {},
   "source": [
    "Deal with huge features: https://www.kaggle.com/questions-and-answers/213836\n",
    "\n",
    "- PCA\n",
    "- Decision trees\n",
    "- Correlation Chi-square \n",
    "\n",
    "You can train a simple model like decision tree and using that you can also get feature importance.\n",
    "Other option is L1 Regularization, you can drop the features where co-efficient value is 0.\n",
    "Use dimensionality reduction techniques such as PCA(Principal Component Analysis)"
   ]
  },
  {
   "cell_type": "code",
   "execution_count": 25,
   "id": "23af3be1",
   "metadata": {},
   "outputs": [
    {
     "data": {
      "application/vnd.jupyter.widget-view+json": {
       "model_id": "77fbd35bb5cd44b282ef76e5c109c0ec",
       "version_major": 2,
       "version_minor": 0
      },
      "text/plain": [
       "Summarize dataset:   0%|          | 0/5 [00:00<?, ?it/s]"
      ]
     },
     "metadata": {},
     "output_type": "display_data"
    },
    {
     "data": {
      "application/vnd.jupyter.widget-view+json": {
       "model_id": "af7f596052254eddad9d76b4d99bccd2",
       "version_major": 2,
       "version_minor": 0
      },
      "text/plain": [
       "Generate report structure:   0%|          | 0/1 [00:00<?, ?it/s]"
      ]
     },
     "metadata": {},
     "output_type": "display_data"
    },
    {
     "data": {
      "application/vnd.jupyter.widget-view+json": {
       "model_id": "07bd74fb924a49b9b06b49ad36f05f33",
       "version_major": 2,
       "version_minor": 0
      },
      "text/plain": [
       "Render HTML:   0%|          | 0/1 [00:00<?, ?it/s]"
      ]
     },
     "metadata": {},
     "output_type": "display_data"
    },
    {
     "data": {
      "application/vnd.jupyter.widget-view+json": {
       "model_id": "d20ef7ef0ba443359efc2c4b71b90baf",
       "version_major": 2,
       "version_minor": 0
      },
      "text/plain": [
       "Export report to file:   0%|          | 0/1 [00:00<?, ?it/s]"
      ]
     },
     "metadata": {},
     "output_type": "display_data"
    }
   ],
   "source": [
    "from pandas_profiling import ProfileReport \n",
    "\n",
    "profile = ProfileReport (trn, minimal=True, title = 'Loans Defaults Prediction', html = {'style': {'full_width': True }}) \n",
    "# profile = ProfileReport(df, minimal=True)\n",
    "profile.to_file(output_file=\"trn_profile.html\")"
   ]
  },
  {
   "cell_type": "code",
   "execution_count": 26,
   "id": "543044ab",
   "metadata": {},
   "outputs": [
    {
     "ename": "NameError",
     "evalue": "name 'PCA' is not defined",
     "output_type": "error",
     "traceback": [
      "\u001b[1;31m---------------------------------------------------------------------------\u001b[0m",
      "\u001b[1;31mNameError\u001b[0m                                 Traceback (most recent call last)",
      "Cell \u001b[1;32mIn[26], line 1\u001b[0m\n\u001b[1;32m----> 1\u001b[0m cov_mat\u001b[38;5;241m=\u001b[39m\u001b[43mPCA\u001b[49m(n_components\u001b[38;5;241m=\u001b[39m\u001b[38;5;241m10\u001b[39m) \u001b[38;5;66;03m#you can choose any number\u001b[39;00m\n\u001b[0;32m      2\u001b[0m cov_mat\u001b[38;5;241m.\u001b[39mfit(X)\n\u001b[0;32m      3\u001b[0m plt\u001b[38;5;241m.\u001b[39mylabel(\u001b[38;5;124m'\u001b[39m\u001b[38;5;124mEigenValues\u001b[39m\u001b[38;5;124m'\u001b[39m)\n",
      "\u001b[1;31mNameError\u001b[0m: name 'PCA' is not defined"
     ]
    }
   ],
   "source": [
    "cov_mat=PCA(n_components=10) #you can choose any number\n",
    "cov_mat.fit(X)\n",
    "plt.ylabel('EigenValues')\n",
    "plt.xlabel('# of features')\n",
    "plt.title('PCA EigenValues')\n",
    "plt.plot(cov_mat.explained_variance_)"
   ]
  },
  {
   "cell_type": "markdown",
   "id": "b840cf89",
   "metadata": {},
   "source": [
    "# PCA "
   ]
  },
  {
   "cell_type": "code",
   "execution_count": 27,
   "id": "5d2b27f9",
   "metadata": {},
   "outputs": [],
   "source": [
    "import numpy as np\n",
    "import pandas as pd\n",
    "import matplotlib\n",
    "from matplotlib import pyplot as plt\n",
    "\n",
    "from sklearn.datasets._samples_generator import make_blobs\n",
    "from sklearn.preprocessing import StandardScaler\n",
    "from sklearn.cluster import KMeans\n",
    "from sklearn.cluster import DBSCAN\n",
    "from sklearn.metrics.cluster import adjusted_rand_score\n",
    "from sklearn.decomposition import PCA\n"
   ]
  },
  {
   "cell_type": "code",
   "execution_count": 28,
   "id": "141b5e79",
   "metadata": {},
   "outputs": [
    {
     "ename": "NameError",
     "evalue": "name 'X' is not defined",
     "output_type": "error",
     "traceback": [
      "\u001b[1;31m---------------------------------------------------------------------------\u001b[0m",
      "\u001b[1;31mNameError\u001b[0m                                 Traceback (most recent call last)",
      "Cell \u001b[1;32mIn[28], line 1\u001b[0m\n\u001b[1;32m----> 1\u001b[0m X_coln_types \u001b[38;5;241m=\u001b[39m pd\u001b[38;5;241m.\u001b[39mDataFrame(\u001b[43mX\u001b[49m\u001b[38;5;241m.\u001b[39mdtypes\u001b[38;5;241m.\u001b[39msort_values(ascending\u001b[38;5;241m=\u001b[39m\u001b[38;5;28;01mFalse\u001b[39;00m)) \u001b[38;5;66;03m# top 23 variables are object\u001b[39;00m\n\u001b[0;32m      2\u001b[0m X_coln_types\u001b[38;5;241m.\u001b[39mhead(\u001b[38;5;241m22\u001b[39m)\n",
      "\u001b[1;31mNameError\u001b[0m: name 'X' is not defined"
     ]
    }
   ],
   "source": [
    "X_coln_types = pd.DataFrame(X.dtypes.sort_values(ascending=False)) # top 23 variables are object\n",
    "X_coln_types.head(22)"
   ]
  },
  {
   "cell_type": "code",
   "execution_count": 29,
   "id": "8980b89b",
   "metadata": {},
   "outputs": [
    {
     "ename": "SyntaxError",
     "evalue": "invalid syntax (1893294651.py, line 2)",
     "output_type": "error",
     "traceback": [
      "\u001b[1;36m  Cell \u001b[1;32mIn[29], line 2\u001b[1;36m\u001b[0m\n\u001b[1;33m    initial_list_status\tobject\u001b[0m\n\u001b[1;37m                       \t^\u001b[0m\n\u001b[1;31mSyntaxError\u001b[0m\u001b[1;31m:\u001b[0m invalid syntax\n"
     ]
    }
   ],
   "source": [
    "def_trn['issue_d'].tolist() # The month which the loan was funded. what is load funded date?????\n",
    "initial_list_status\tobject\n",
    "emp_length\tobject\n",
    "emp_title\tobject\n",
    "sub_grade\tobject\n",
    "grade\tobject\n",
    "term\tobject\n",
    "home_ownership\tobject\n",
    "hardship_flag\tobject\n",
    "disbursement_method"
   ]
  },
  {
   "cell_type": "code",
   "execution_count": 31,
   "id": "1f98d365",
   "metadata": {},
   "outputs": [
    {
     "name": "stderr",
     "output_type": "stream",
     "text": [
      "C:\\Users\\dengbo.yang\\AppData\\Local\\Temp\\ipykernel_29116\\1850816304.py:1: FutureWarning: The default value of numeric_only in DataFrame.corr is deprecated. In a future version, it will default to False. Select only valid columns or specify the value of numeric_only to silence this warning.\n",
      "  feature_correlation = trn.corr()\n"
     ]
    }
   ],
   "source": [
    "feature_correlation = trn.corr()\n",
    "feature_correlation.to_csv('feature_correlation.csv')  "
   ]
  },
  {
   "cell_type": "markdown",
   "id": "51ffe97c",
   "metadata": {},
   "source": [
    "# PCA feature selection"
   ]
  },
  {
   "cell_type": "code",
   "execution_count": null,
   "id": "c1148f3f",
   "metadata": {},
   "outputs": [],
   "source": [
    "X = trn.drop(['loan_status_dv','loan_status'], axis=1)\n",
    "X1 = X.drop(['debt_settlement_flag','verification_status','last_credit_pull_d','next_pymnt_d','zip_code','pymnt_plan']) # may drop 'application_type'"
   ]
  },
  {
   "cell_type": "code",
   "execution_count": null,
   "id": "c9ab2647",
   "metadata": {},
   "outputs": [],
   "source": [
    "# set up PCA \n",
    "n_pc = 10\n",
    "pca = PCA(n_components=n_pc)\n",
    "principalComponents = pca.fit_transform(X) # need to encode. convert string to float\n",
    "principalDf = pd.DataFrame(data = principalComponents\n",
    "             , columns = ['pc_'+str(i+1) for i in range(n_pc)])\n",
    "\n",
    "# calculate eigenvalues\n",
    "# method 1\n",
    "eigenvalues = pca.explained_variance_\n",
    "plt.plot(eigenvalues)"
   ]
  },
  {
   "cell_type": "code",
   "execution_count": null,
   "id": "3c9cd8c0",
   "metadata": {},
   "outputs": [],
   "source": []
  },
  {
   "cell_type": "code",
   "execution_count": null,
   "id": "eda86568",
   "metadata": {},
   "outputs": [],
   "source": []
  },
  {
   "cell_type": "code",
   "execution_count": null,
   "id": "38d159f4",
   "metadata": {},
   "outputs": [],
   "source": []
  },
  {
   "cell_type": "markdown",
   "id": "4ae91ffb",
   "metadata": {},
   "source": [
    "## Decision tree feature importance\n",
    "https://towardsdatascience.com/feature-importance-in-decision-trees-e9450120b445\n",
    "\n",
    "https://github.com/Eligijus112/gradient-boosting/blob/master/regression/feature_importance.ipynb"
   ]
  },
  {
   "cell_type": "code",
   "execution_count": null,
   "id": "96958b37",
   "metadata": {},
   "outputs": [],
   "source": [
    "# Loading the data\n",
    "_cali_data = fetch_california_housing(as_frame=True)\n",
    "X, y = _cali_data.data, _cali_data.target\n",
    "\n",
    "# Droping the geo coordinate featuress\n",
    "X = X.drop(columns=['Latitude', 'Longitude'])\n",
    "\n",
    "# Droping the population feature; In real life modeling, this could be used as weight. \n",
    "# For educational and inference purposes, we drop it.\n",
    "X = X.drop(columns=['Population'])\n",
    "\n",
    "# Saving the feature names \n",
    "features = X.columns.tolist()\n"
   ]
  },
  {
   "cell_type": "code",
   "execution_count": 34,
   "id": "95329239",
   "metadata": {},
   "outputs": [
    {
     "data": {
      "text/html": [
       "<div>\n",
       "<style scoped>\n",
       "    .dataframe tbody tr th:only-of-type {\n",
       "        vertical-align: middle;\n",
       "    }\n",
       "\n",
       "    .dataframe tbody tr th {\n",
       "        vertical-align: top;\n",
       "    }\n",
       "\n",
       "    .dataframe thead th {\n",
       "        text-align: right;\n",
       "    }\n",
       "</style>\n",
       "<table border=\"1\" class=\"dataframe\">\n",
       "  <thead>\n",
       "    <tr style=\"text-align: right;\">\n",
       "      <th></th>\n",
       "      <th>term</th>\n",
       "      <th>grade</th>\n",
       "      <th>sub_grade</th>\n",
       "      <th>emp_title</th>\n",
       "      <th>emp_length</th>\n",
       "      <th>home_ownership</th>\n",
       "      <th>verification_status</th>\n",
       "      <th>issue_d</th>\n",
       "      <th>loan_status</th>\n",
       "      <th>pymnt_plan</th>\n",
       "      <th>...</th>\n",
       "      <th>addr_state</th>\n",
       "      <th>earliest_cr_line</th>\n",
       "      <th>initial_list_status</th>\n",
       "      <th>last_pymnt_d</th>\n",
       "      <th>next_pymnt_d</th>\n",
       "      <th>last_credit_pull_d</th>\n",
       "      <th>application_type</th>\n",
       "      <th>hardship_flag</th>\n",
       "      <th>disbursement_method</th>\n",
       "      <th>debt_settlement_flag</th>\n",
       "    </tr>\n",
       "  </thead>\n",
       "  <tbody>\n",
       "    <tr>\n",
       "      <th>0</th>\n",
       "      <td>60 months</td>\n",
       "      <td>D</td>\n",
       "      <td>D3</td>\n",
       "      <td>Bookkeeping &amp; Payroll Manager</td>\n",
       "      <td>7 years</td>\n",
       "      <td>OWN</td>\n",
       "      <td>Not Verified</td>\n",
       "      <td>Apr-2018</td>\n",
       "      <td>Fully Paid</td>\n",
       "      <td>n</td>\n",
       "      <td>...</td>\n",
       "      <td>OK</td>\n",
       "      <td>Nov-2006</td>\n",
       "      <td>w</td>\n",
       "      <td>Jul-2018</td>\n",
       "      <td>NaN</td>\n",
       "      <td>Oct-2018</td>\n",
       "      <td>Individual</td>\n",
       "      <td>N</td>\n",
       "      <td>Cash</td>\n",
       "      <td>N</td>\n",
       "    </tr>\n",
       "    <tr>\n",
       "      <th>1</th>\n",
       "      <td>36 months</td>\n",
       "      <td>C</td>\n",
       "      <td>C5</td>\n",
       "      <td>Restaurant manager</td>\n",
       "      <td>8 years</td>\n",
       "      <td>MORTGAGE</td>\n",
       "      <td>Source Verified</td>\n",
       "      <td>Jul-2017</td>\n",
       "      <td>Fully Paid</td>\n",
       "      <td>n</td>\n",
       "      <td>...</td>\n",
       "      <td>FL</td>\n",
       "      <td>Sep-2001</td>\n",
       "      <td>f</td>\n",
       "      <td>Aug-2018</td>\n",
       "      <td>NaN</td>\n",
       "      <td>Sep-2018</td>\n",
       "      <td>Joint App</td>\n",
       "      <td>N</td>\n",
       "      <td>Cash</td>\n",
       "      <td>N</td>\n",
       "    </tr>\n",
       "    <tr>\n",
       "      <th>2</th>\n",
       "      <td>60 months</td>\n",
       "      <td>F</td>\n",
       "      <td>F4</td>\n",
       "      <td>Officer</td>\n",
       "      <td>10+ years</td>\n",
       "      <td>OWN</td>\n",
       "      <td>Source Verified</td>\n",
       "      <td>Jul-2014</td>\n",
       "      <td>Charged Off</td>\n",
       "      <td>n</td>\n",
       "      <td>...</td>\n",
       "      <td>FL</td>\n",
       "      <td>Dec-1997</td>\n",
       "      <td>f</td>\n",
       "      <td>Jan-2015</td>\n",
       "      <td>NaN</td>\n",
       "      <td>Oct-2016</td>\n",
       "      <td>Individual</td>\n",
       "      <td>N</td>\n",
       "      <td>Cash</td>\n",
       "      <td>N</td>\n",
       "    </tr>\n",
       "    <tr>\n",
       "      <th>3</th>\n",
       "      <td>36 months</td>\n",
       "      <td>C</td>\n",
       "      <td>C4</td>\n",
       "      <td>NaN</td>\n",
       "      <td>NaN</td>\n",
       "      <td>OWN</td>\n",
       "      <td>Verified</td>\n",
       "      <td>Jun-2018</td>\n",
       "      <td>Current</td>\n",
       "      <td>n</td>\n",
       "      <td>...</td>\n",
       "      <td>CA</td>\n",
       "      <td>Apr-1982</td>\n",
       "      <td>w</td>\n",
       "      <td>Feb-2019</td>\n",
       "      <td>Mar-2019</td>\n",
       "      <td>Feb-2019</td>\n",
       "      <td>Individual</td>\n",
       "      <td>N</td>\n",
       "      <td>Cash</td>\n",
       "      <td>N</td>\n",
       "    </tr>\n",
       "    <tr>\n",
       "      <th>4</th>\n",
       "      <td>36 months</td>\n",
       "      <td>C</td>\n",
       "      <td>C2</td>\n",
       "      <td>Painter</td>\n",
       "      <td>5 years</td>\n",
       "      <td>MORTGAGE</td>\n",
       "      <td>Verified</td>\n",
       "      <td>Oct-2013</td>\n",
       "      <td>Fully Paid</td>\n",
       "      <td>n</td>\n",
       "      <td>...</td>\n",
       "      <td>NJ</td>\n",
       "      <td>Mar-2000</td>\n",
       "      <td>w</td>\n",
       "      <td>Oct-2016</td>\n",
       "      <td>NaN</td>\n",
       "      <td>Oct-2016</td>\n",
       "      <td>Individual</td>\n",
       "      <td>N</td>\n",
       "      <td>Cash</td>\n",
       "      <td>N</td>\n",
       "    </tr>\n",
       "    <tr>\n",
       "      <th>...</th>\n",
       "      <td>...</td>\n",
       "      <td>...</td>\n",
       "      <td>...</td>\n",
       "      <td>...</td>\n",
       "      <td>...</td>\n",
       "      <td>...</td>\n",
       "      <td>...</td>\n",
       "      <td>...</td>\n",
       "      <td>...</td>\n",
       "      <td>...</td>\n",
       "      <td>...</td>\n",
       "      <td>...</td>\n",
       "      <td>...</td>\n",
       "      <td>...</td>\n",
       "      <td>...</td>\n",
       "      <td>...</td>\n",
       "      <td>...</td>\n",
       "      <td>...</td>\n",
       "      <td>...</td>\n",
       "      <td>...</td>\n",
       "      <td>...</td>\n",
       "    </tr>\n",
       "    <tr>\n",
       "      <th>54808</th>\n",
       "      <td>60 months</td>\n",
       "      <td>E</td>\n",
       "      <td>E4</td>\n",
       "      <td>Owner</td>\n",
       "      <td>6 years</td>\n",
       "      <td>OWN</td>\n",
       "      <td>Source Verified</td>\n",
       "      <td>Jan-2018</td>\n",
       "      <td>Fully Paid</td>\n",
       "      <td>n</td>\n",
       "      <td>...</td>\n",
       "      <td>NC</td>\n",
       "      <td>Aug-2008</td>\n",
       "      <td>w</td>\n",
       "      <td>Feb-2018</td>\n",
       "      <td>NaN</td>\n",
       "      <td>Feb-2019</td>\n",
       "      <td>Individual</td>\n",
       "      <td>N</td>\n",
       "      <td>Cash</td>\n",
       "      <td>N</td>\n",
       "    </tr>\n",
       "    <tr>\n",
       "      <th>54809</th>\n",
       "      <td>36 months</td>\n",
       "      <td>B</td>\n",
       "      <td>B2</td>\n",
       "      <td>Branch Manager</td>\n",
       "      <td>10+ years</td>\n",
       "      <td>MORTGAGE</td>\n",
       "      <td>Not Verified</td>\n",
       "      <td>Dec-2015</td>\n",
       "      <td>Charged Off</td>\n",
       "      <td>n</td>\n",
       "      <td>...</td>\n",
       "      <td>NC</td>\n",
       "      <td>Sep-2001</td>\n",
       "      <td>w</td>\n",
       "      <td>Jul-2017</td>\n",
       "      <td>NaN</td>\n",
       "      <td>Aug-2018</td>\n",
       "      <td>Individual</td>\n",
       "      <td>N</td>\n",
       "      <td>Cash</td>\n",
       "      <td>Y</td>\n",
       "    </tr>\n",
       "    <tr>\n",
       "      <th>54810</th>\n",
       "      <td>60 months</td>\n",
       "      <td>C</td>\n",
       "      <td>C2</td>\n",
       "      <td>yukio okutso state veterans home</td>\n",
       "      <td>4 years</td>\n",
       "      <td>OWN</td>\n",
       "      <td>Verified</td>\n",
       "      <td>Aug-2013</td>\n",
       "      <td>Fully Paid</td>\n",
       "      <td>n</td>\n",
       "      <td>...</td>\n",
       "      <td>HI</td>\n",
       "      <td>Oct-1999</td>\n",
       "      <td>f</td>\n",
       "      <td>Aug-2018</td>\n",
       "      <td>NaN</td>\n",
       "      <td>Aug-2018</td>\n",
       "      <td>Individual</td>\n",
       "      <td>N</td>\n",
       "      <td>Cash</td>\n",
       "      <td>N</td>\n",
       "    </tr>\n",
       "    <tr>\n",
       "      <th>54811</th>\n",
       "      <td>36 months</td>\n",
       "      <td>A</td>\n",
       "      <td>A4</td>\n",
       "      <td>Sales</td>\n",
       "      <td>&lt; 1 year</td>\n",
       "      <td>RENT</td>\n",
       "      <td>Not Verified</td>\n",
       "      <td>Jun-2018</td>\n",
       "      <td>Current</td>\n",
       "      <td>n</td>\n",
       "      <td>...</td>\n",
       "      <td>FL</td>\n",
       "      <td>Mar-1985</td>\n",
       "      <td>w</td>\n",
       "      <td>Feb-2019</td>\n",
       "      <td>Mar-2019</td>\n",
       "      <td>Feb-2019</td>\n",
       "      <td>Individual</td>\n",
       "      <td>N</td>\n",
       "      <td>DirectPay</td>\n",
       "      <td>N</td>\n",
       "    </tr>\n",
       "    <tr>\n",
       "      <th>54812</th>\n",
       "      <td>36 months</td>\n",
       "      <td>B</td>\n",
       "      <td>B4</td>\n",
       "      <td>Operations Manager</td>\n",
       "      <td>&lt; 1 year</td>\n",
       "      <td>RENT</td>\n",
       "      <td>Verified</td>\n",
       "      <td>Dec-2015</td>\n",
       "      <td>Fully Paid</td>\n",
       "      <td>n</td>\n",
       "      <td>...</td>\n",
       "      <td>NC</td>\n",
       "      <td>Mar-2003</td>\n",
       "      <td>w</td>\n",
       "      <td>Jan-2019</td>\n",
       "      <td>NaN</td>\n",
       "      <td>Jan-2019</td>\n",
       "      <td>Individual</td>\n",
       "      <td>N</td>\n",
       "      <td>Cash</td>\n",
       "      <td>N</td>\n",
       "    </tr>\n",
       "  </tbody>\n",
       "</table>\n",
       "<p>54813 rows × 23 columns</p>\n",
       "</div>"
      ],
      "text/plain": [
       "             term grade sub_grade                         emp_title  \\\n",
       "0       60 months     D        D3     Bookkeeping & Payroll Manager   \n",
       "1       36 months     C        C5               Restaurant manager    \n",
       "2       60 months     F        F4                           Officer   \n",
       "3       36 months     C        C4                               NaN   \n",
       "4       36 months     C        C2                           Painter   \n",
       "...           ...   ...       ...                               ...   \n",
       "54808   60 months     E        E4                            Owner    \n",
       "54809   36 months     B        B2                    Branch Manager   \n",
       "54810   60 months     C        C2  yukio okutso state veterans home   \n",
       "54811   36 months     A        A4                             Sales   \n",
       "54812   36 months     B        B4                Operations Manager   \n",
       "\n",
       "      emp_length home_ownership verification_status   issue_d  loan_status  \\\n",
       "0        7 years            OWN        Not Verified  Apr-2018   Fully Paid   \n",
       "1        8 years       MORTGAGE     Source Verified  Jul-2017   Fully Paid   \n",
       "2      10+ years            OWN     Source Verified  Jul-2014  Charged Off   \n",
       "3            NaN            OWN            Verified  Jun-2018      Current   \n",
       "4        5 years       MORTGAGE            Verified  Oct-2013   Fully Paid   \n",
       "...          ...            ...                 ...       ...          ...   \n",
       "54808    6 years            OWN     Source Verified  Jan-2018   Fully Paid   \n",
       "54809  10+ years       MORTGAGE        Not Verified  Dec-2015  Charged Off   \n",
       "54810    4 years            OWN            Verified  Aug-2013   Fully Paid   \n",
       "54811   < 1 year           RENT        Not Verified  Jun-2018      Current   \n",
       "54812   < 1 year           RENT            Verified  Dec-2015   Fully Paid   \n",
       "\n",
       "      pymnt_plan  ... addr_state earliest_cr_line initial_list_status  \\\n",
       "0              n  ...         OK         Nov-2006                   w   \n",
       "1              n  ...         FL         Sep-2001                   f   \n",
       "2              n  ...         FL         Dec-1997                   f   \n",
       "3              n  ...         CA         Apr-1982                   w   \n",
       "4              n  ...         NJ         Mar-2000                   w   \n",
       "...          ...  ...        ...              ...                 ...   \n",
       "54808          n  ...         NC         Aug-2008                   w   \n",
       "54809          n  ...         NC         Sep-2001                   w   \n",
       "54810          n  ...         HI         Oct-1999                   f   \n",
       "54811          n  ...         FL         Mar-1985                   w   \n",
       "54812          n  ...         NC         Mar-2003                   w   \n",
       "\n",
       "      last_pymnt_d next_pymnt_d last_credit_pull_d application_type  \\\n",
       "0         Jul-2018          NaN           Oct-2018       Individual   \n",
       "1         Aug-2018          NaN           Sep-2018        Joint App   \n",
       "2         Jan-2015          NaN           Oct-2016       Individual   \n",
       "3         Feb-2019     Mar-2019           Feb-2019       Individual   \n",
       "4         Oct-2016          NaN           Oct-2016       Individual   \n",
       "...            ...          ...                ...              ...   \n",
       "54808     Feb-2018          NaN           Feb-2019       Individual   \n",
       "54809     Jul-2017          NaN           Aug-2018       Individual   \n",
       "54810     Aug-2018          NaN           Aug-2018       Individual   \n",
       "54811     Feb-2019     Mar-2019           Feb-2019       Individual   \n",
       "54812     Jan-2019          NaN           Jan-2019       Individual   \n",
       "\n",
       "      hardship_flag disbursement_method debt_settlement_flag  \n",
       "0                 N                Cash                    N  \n",
       "1                 N                Cash                    N  \n",
       "2                 N                Cash                    N  \n",
       "3                 N                Cash                    N  \n",
       "4                 N                Cash                    N  \n",
       "...             ...                 ...                  ...  \n",
       "54808             N                Cash                    N  \n",
       "54809             N                Cash                    Y  \n",
       "54810             N                Cash                    N  \n",
       "54811             N           DirectPay                    N  \n",
       "54812             N                Cash                    N  \n",
       "\n",
       "[54813 rows x 23 columns]"
      ]
     },
     "execution_count": 34,
     "metadata": {},
     "output_type": "execute_result"
    }
   ],
   "source": [
    "col_types = trn.dtypes.to_frame('dtypes').reset_index()\n",
    "coln_obj = col_types[col_types['dtypes']=='O']['index'] # object types may affect model training\n",
    "trn[coln_obj]"
   ]
  },
  {
   "cell_type": "code",
   "execution_count": 58,
   "id": "5aa0459d",
   "metadata": {},
   "outputs": [
    {
     "data": {
      "text/plain": [
       "['term',\n",
       " 'grade',\n",
       " 'sub_grade',\n",
       " 'emp_title',\n",
       " 'emp_length',\n",
       " 'home_ownership',\n",
       " 'verification_status',\n",
       " 'issue_d',\n",
       " 'loan_status',\n",
       " 'pymnt_plan',\n",
       " 'purpose',\n",
       " 'title',\n",
       " 'zip_code',\n",
       " 'addr_state',\n",
       " 'earliest_cr_line',\n",
       " 'initial_list_status',\n",
       " 'last_pymnt_d',\n",
       " 'next_pymnt_d',\n",
       " 'last_credit_pull_d',\n",
       " 'application_type',\n",
       " 'hardship_flag',\n",
       " 'disbursement_method',\n",
       " 'debt_settlement_flag']"
      ]
     },
     "execution_count": 58,
     "metadata": {},
     "output_type": "execute_result"
    }
   ],
   "source": [
    "coln_obj.tolist()"
   ]
  },
  {
   "cell_type": "code",
   "execution_count": 74,
   "id": "ad6a2736",
   "metadata": {},
   "outputs": [
    {
     "data": {
      "text/plain": [
       "['mths_since_last_record',\n",
       " 'mths_since_recent_bc_dlq',\n",
       " 'mths_since_last_major_derog',\n",
       " 'mths_since_recent_revol_delinq',\n",
       " 'mths_since_last_delinq',\n",
       " 'il_util',\n",
       " 'mths_since_rcnt_il',\n",
       " 'all_util',\n",
       " 'open_rv_24m',\n",
       " 'open_rv_12m',\n",
       " 'total_bal_il',\n",
       " 'inq_fi',\n",
       " 'total_cu_tl',\n",
       " 'open_il_24m',\n",
       " 'open_il_12m',\n",
       " 'open_act_il',\n",
       " 'open_acc_6m',\n",
       " 'inq_last_12m',\n",
       " 'max_bal_bc',\n",
       " 'mths_since_recent_inq',\n",
       " 'num_tl_120dpd_2m',\n",
       " 'mo_sin_old_il_acct',\n",
       " 'bc_util',\n",
       " 'percent_bc_gt_75',\n",
       " 'bc_open_to_buy',\n",
       " 'mths_since_recent_bc',\n",
       " 'dti',\n",
       " 'revol_util',\n",
       " 'pct_tl_nvr_dlq',\n",
       " 'avg_cur_bal']"
      ]
     },
     "execution_count": 74,
     "metadata": {},
     "output_type": "execute_result"
    }
   ],
   "source": [
    "pd.DataFrame(X_train.isna().sum().sort_values(ascending=False)).head(30) # columns has missing values\n",
    "pd.DataFrame(X_train.isna().sum().sort_values(ascending=False)).head(30).index.tolist()"
   ]
  },
  {
   "cell_type": "code",
   "execution_count": 110,
   "id": "3a3e045c",
   "metadata": {},
   "outputs": [
    {
     "name": "stdout",
     "output_type": "stream",
     "text": [
      "Feature importance by sklearn: {'loan_amnt': 0.0, 'funded_amnt': 0.0, 'funded_amnt_inv': 0.0, 'int_rate': 0.0, 'installment': 0.0, 'annual_inc': 0.0, 'delinq_2yrs': 0.0, 'inq_last_6mths': 0.0, 'open_acc': 0.0, 'pub_rec': 0.0, 'revol_bal': 0.0, 'total_acc': 0.0, 'out_prncp': 0.0, 'out_prncp_inv': 0.011, 'total_pymnt': 0.0, 'total_pymnt_inv': 0.0, 'total_rec_prncp': 0.078, 'total_rec_int': 0.0, 'total_rec_late_fee': 0.0, 'recoveries': 0.911, 'collection_recovery_fee': 0.0, 'last_pymnt_amnt': 0.0, 'collections_12_mths_ex_med': 0.0, 'policy_code': 0.0, 'acc_now_delinq': 0.0, 'tot_coll_amt': 0.0, 'tot_cur_bal': 0.0, 'total_rev_hi_lim': 0.0, 'acc_open_past_24mths': 0.0, 'chargeoff_within_12_mths': 0.0, 'delinq_amnt': 0.0, 'mo_sin_old_rev_tl_op': 0.0, 'mo_sin_rcnt_rev_tl_op': 0.0, 'mo_sin_rcnt_tl': 0.0, 'mort_acc': 0.0, 'num_accts_ever_120_pd': 0.0, 'num_actv_bc_tl': 0.0, 'num_actv_rev_tl': 0.0, 'num_bc_sats': 0.0, 'num_bc_tl': 0.0, 'num_il_tl': 0.0, 'num_op_rev_tl': 0.0, 'num_rev_accts': 0.0, 'num_rev_tl_bal_gt_0': 0.0, 'num_sats': 0.0, 'num_tl_30dpd': 0.0, 'num_tl_90g_dpd_24m': 0.0, 'num_tl_op_past_12m': 0.0, 'pub_rec_bankruptcies': 0.0, 'tax_liens': 0.0, 'tot_hi_cred_lim': 0.0, 'total_bal_ex_mort': 0.0, 'total_bc_limit': 0.0, 'total_il_high_credit_limit': 0.0}\n"
     ]
    }
   ],
   "source": [
    "from sklearn.tree import DecisionTreeRegressor, plot_tree\n",
    "\n",
    "# Train test split \n",
    "\n",
    "coln_nan = pd.DataFrame(trn.isna().sum().sort_values(ascending=False)).head(35).index.tolist()\n",
    "X = trn.drop(columns=['loan_status','loan_status_dv','Unnamed: 0']+coln_obj.tolist()+coln_nan, axis=1)\n",
    "\n",
    "# drop target variable columns, columns with object, columns with missing values\n",
    "\n",
    "y = trn['loan_status_dv']\n",
    "X_train, X_test, y_train, y_test = train_test_split(X, y, test_size=0.25, random_state=42)\n",
    "features = X.columns.tolist()\n",
    "\n",
    "\n",
    "# Defining the hyper parameters \n",
    "hps = {\n",
    "    'max_depth': 3,\n",
    "    'min_samples_split': 4,\n",
    "    'random_state': 0\n",
    "}\n",
    "\n",
    "# Loading the tree object \n",
    "tree = DecisionTreeRegressor(**hps)\n",
    "\n",
    "# Fitting on the training data \n",
    "tree.fit(X_train, y_train)\n",
    "\n",
    "# Extracting the importances by sklearn \n",
    "importances_sk = tree.feature_importances_\n",
    "\n",
    "# Creating a dataframe with the feature importance by sklearn\n",
    "feature_importance_sk = {}\n",
    "for i, feature in enumerate(features):\n",
    "    feature_importance_sk[feature] = round(importances_sk[i], 3)\n",
    "\n",
    "print(f\"Feature importance by sklearn: {feature_importance_sk}\")"
   ]
  },
  {
   "cell_type": "code",
   "execution_count": 117,
   "id": "ec557bcd",
   "metadata": {},
   "outputs": [
    {
     "data": {
      "image/png": "[encoded data removed]",
      "text/plain": [
       "<Figure size 2000x2000 with 1 Axes>"
      ]
     },
     "metadata": {},
     "output_type": "display_data"
    }
   ],
   "source": [
    "plt.figure(figsize=(20, 20))\n",
    "plot_tree(tree, feature_names=features, filled=True)\n",
    "plt.show()"
   ]
  },
  {
   "cell_type": "code",
   "execution_count": 119,
   "id": "a7632129",
   "metadata": {},
   "outputs": [
    {
     "data": {
      "text/html": [
       "<div>\n",
       "<style scoped>\n",
       "    .dataframe tbody tr th:only-of-type {\n",
       "        vertical-align: middle;\n",
       "    }\n",
       "\n",
       "    .dataframe tbody tr th {\n",
       "        vertical-align: top;\n",
       "    }\n",
       "\n",
       "    .dataframe thead th {\n",
       "        text-align: right;\n",
       "    }\n",
       "</style>\n",
       "<table border=\"1\" class=\"dataframe\">\n",
       "  <thead>\n",
       "    <tr style=\"text-align: right;\">\n",
       "      <th></th>\n",
       "      <th>Feature</th>\n",
       "      <th>Feature importance</th>\n",
       "    </tr>\n",
       "  </thead>\n",
       "  <tbody>\n",
       "    <tr>\n",
       "      <th>19</th>\n",
       "      <td>recoveries</td>\n",
       "      <td>0.911</td>\n",
       "    </tr>\n",
       "    <tr>\n",
       "      <th>16</th>\n",
       "      <td>total_rec_prncp</td>\n",
       "      <td>0.078</td>\n",
       "    </tr>\n",
       "    <tr>\n",
       "      <th>13</th>\n",
       "      <td>out_prncp_inv</td>\n",
       "      <td>0.011</td>\n",
       "    </tr>\n",
       "  </tbody>\n",
       "</table>\n",
       "</div>"
      ],
      "text/plain": [
       "            Feature  Feature importance\n",
       "19       recoveries               0.911\n",
       "16  total_rec_prncp               0.078\n",
       "13    out_prncp_inv               0.011"
      ]
     },
     "execution_count": 119,
     "metadata": {},
     "output_type": "execute_result"
    }
   ],
   "source": [
    "# Creating a dataframe with the feature importance by our method and the sklearn method\n",
    "feature_importance_df = pd.DataFrame({\n",
    "    \"Feature\": features,\n",
    "    \"Feature importance\": [feature_importance_sk[feature] for feature in features]\n",
    "}).sort_values('Feature importance', ascending=False)\n",
    "feature_importance_df[feature_importance_df['Feature importance']!=0]"
   ]
  },
  {
   "cell_type": "markdown",
   "id": "aeefed35",
   "metadata": {},
   "source": [
    "## Train, test split"
   ]
  },
  {
   "cell_type": "code",
   "execution_count": null,
   "id": "59e690c5",
   "metadata": {},
   "outputs": [],
   "source": [
    "# features may be important \n",
    "#ll_util #Balance to credit limit on all tades\n",
    "\n",
    "\n",
    "from sklearn.preprocessing import StandardScaler\n",
    "from sklearn.model_selection import train_test_split\n",
    "\n",
    "X = trn.drop('y', axis=1)\n",
    "y = trn['y']\n",
    "X_train, X_test, y_train, y_test = train_test_split(X, y, test_size=0.25, random_state=42)\n",
    "\n",
    "ss = StandardScaler()\n",
    "X_train_scaled = ss.fit_transform(X_train)\n",
    "X_test_scaled = ss.transform(X_test)\n"
   ]
  },
  {
   "cell_type": "markdown",
   "id": "f0031fac",
   "metadata": {},
   "source": [
    "## Feature selection\n",
    "https://towardsdatascience.com/3-essential-ways-to-calculate-feature-importance-in-python-2f9149592155"
   ]
  },
  {
   "cell_type": "markdown",
   "id": "3436059e",
   "metadata": {},
   "source": [
    "## Correlation matrix"
   ]
  },
  {
   "cell_type": "code",
   "execution_count": null,
   "id": "abbcd07f",
   "metadata": {
    "ExecuteTime": {
     "end_time": "2023-02-16T03:56:09.921951Z",
     "start_time": "2023-02-16T03:56:09.474911Z"
    }
   },
   "outputs": [],
   "source": [
    "corr = trn[trn_coln[1:20]].corr()\n",
    "print(corr)"
   ]
  },
  {
   "cell_type": "code",
   "execution_count": null,
   "id": "f95404e2",
   "metadata": {},
   "outputs": [],
   "source": []
  },
  {
   "attachments": {
    "image.png": {
     "image/png": "[encoded data removed]"
    }
   },
   "cell_type": "markdown",
   "id": "a15876ec",
   "metadata": {},
   "source": [
    "# Find selected elements to investigate\n",
    "Remove mostly NaN attributes\n",
    "\n",
    "Q: What factor is associated with not paying loan off?\n",
    "- social credit\n",
    "- networth\n",
    "- debt>networth(saving and checking, cash on hand)\n",
    "- past history of not paying off\n",
    "- age (risk higher if younger)\n",
    "- https://www.wellsfargo.com/financial-education/credit-management/calculate-credit-score/#:~:text=This%20is%20based%20on%20the,if%20you%20pay%20on%20time.\n",
    "![image.png](attachment:image.png)"
   ]
  },
  {
   "cell_type": "markdown",
   "id": "53c35156",
   "metadata": {},
   "source": [
    "# Need modification  below"
   ]
  },
  {
   "cell_type": "code",
   "execution_count": null,
   "id": "9043cd57",
   "metadata": {
    "ExecuteTime": {
     "end_time": "2023-02-16T03:56:10.290311Z",
     "start_time": "2023-02-16T03:56:09.922943Z"
    }
   },
   "outputs": [],
   "source": [
    "print(\"event rate is: {}\".format(loan_data['dv'].mean()))\n",
    "print(\"event rate is: {}\".format(loan_data['dv'].mean()))\n"
   ]
  },
  {
   "cell_type": "code",
   "execution_count": null,
   "id": "c29226d1",
   "metadata": {
    "ExecuteTime": {
     "end_time": "2023-02-16T03:56:10.296193Z",
     "start_time": "2023-02-16T03:56:10.296183Z"
    }
   },
   "outputs": [],
   "source": [
    "# let's see more columns\n",
    "trn.set_option('display.max_columns', 200)"
   ]
  },
  {
   "cell_type": "code",
   "execution_count": null,
   "id": "731e7fd3",
   "metadata": {
    "ExecuteTime": {
     "end_time": "2023-02-16T03:56:10.297768Z",
     "start_time": "2023-02-16T03:56:10.297759Z"
    }
   },
   "outputs": [],
   "source": [
    "subset = ['AdjSalePrice', 'SqFtTotLiving', 'SqFtLot', 'Bathrooms', 'Bedrooms', 'BldgGrade']\n",
    "predictors = ['SqFtTotLiving', 'SqFtLot', 'Bathrooms', 'Bedrooms', 'BldgGrade']\n",
    "outcome = 'AdjSalePrice'\n",
    "house_lm = LinearRegression()\n",
    "house_lm.fit(house[predictors], house[outcome])\n",
    "\n",
    "print(f'Intercept: {house_lm.intercept_:.3f}')\n",
    "print('Coefficients:')\n",
    "for name, coef in zip(predictors, house_lm.coef_):\n",
    "    print(f' {name}: {coef}')\n",
    "\n",
    "# evaluation metrics\n",
    "fitted = house_lm.predict(house[predictors])\n",
    "RMSE = np.sqrt(mean_squared_error(house[outcome], fitted))\n",
    "r2 = r2_score(house[outcome], fitted)\n",
    "print('Training data:')\n",
    "print(f'RMSE: {RMSE:.0f}')\n",
    "print(f'r2: {r2:.4f}')\n",
    "\n",
    "fitted_test = house_lm.predict(house_test[predictors])\n",
    "RMSE_test = np.sqrt(mean_squared_error(house_test[outcome], fitted_test))\n",
    "r2_test = r2_score(house_test[outcome], fitted_test)\n",
    "print('Validation data:')\n",
    "print(f'RMSE_test: {RMSE_test:.0f}')\n",
    "print(f'r2_test: {r2_test:.4f}')\n",
    "\n",
    "\n",
    "#stats-model package\n",
    "mlr_sm = sm.OLS(house[outcome], house[predictors].assign(const=1))\n",
    "results = mlr_sm.fit()\n",
    "print(results.summary())\n",
    "\n",
    "# correlation metrix\n",
    "corr = house[predictors].corr()\n",
    "print(\"Correlation Matrix \\n {}\".format(corr))\n",
    "\n",
    "ax = sns.heatmap(\n",
    "    corr, \n",
    "    vmin=-1, vmax=1, center=0,\n",
    "    cmap=sns.diverging_palette(20, 220, n=200),\n",
    "    square=True\n",
    ")\n",
    "ax.set_xticklabels(\n",
    "    ax.get_xticklabels(),\n",
    "    rotation=45,\n",
    "    horizontalalignment='right'\n",
    ")"
   ]
  },
  {
   "cell_type": "code",
   "execution_count": null,
   "id": "c9c13a3a",
   "metadata": {
    "ExecuteTime": {
     "end_time": "2023-02-16T03:56:10.298901Z",
     "start_time": "2023-02-16T03:56:10.298890Z"
    }
   },
   "outputs": [],
   "source": [
    "house, house_test = train_test_split(houseall, test_size=0.2)\n",
    "print(\"event rate is: {}\".format(loan_data['dv'].mean()))\n",
    "\n",
    "loan_data.groupby([\"purpose\", 'dv']).size().reset_index(name='counts')"
   ]
  },
  {
   "cell_type": "code",
   "execution_count": null,
   "id": "f819bbab",
   "metadata": {
    "ExecuteTime": {
     "end_time": "2023-02-16T03:56:10.299914Z",
     "start_time": "2023-02-16T03:56:10.299906Z"
    }
   },
   "outputs": [],
   "source": [
    "### 1 - Fit MLR model in python with sklearn and statsmodels packages\n",
    "### 2 - Model Selection\n",
    "### 3 - Weighted regression\n",
    "### 4 - Regularization, L1 and L2"
   ]
  },
  {
   "cell_type": "markdown",
   "id": "d13bcc25",
   "metadata": {},
   "source": [
    "# Logistic regression\n",
    "The package scikit-learn has a specialised class for LogisticRegression. Statsmodels has a more general method based on generalized linear model (GLM).\n",
    "\n",
    "use scikit-learn due to purpose of prediction use instead of inference"
   ]
  },
  {
   "cell_type": "code",
   "execution_count": null,
   "id": "85e276b6",
   "metadata": {
    "ExecuteTime": {
     "end_time": "2023-02-16T03:56:10.301378Z",
     "start_time": "2023-02-16T03:56:10.301369Z"
    }
   },
   "outputs": [],
   "source": [
    "predictors = ['purpose', 'dti', 'borrower_score', 'payment_inc_ratio']\n",
    "outcome = 'outcome'\n",
    "\n",
    "loan, loan_test = train_test_split(loan_data, test_size=0.2)\n",
    "\n",
    "X_train = pd.get_dummies(loan[predictors], prefix='', prefix_sep='', drop_first=True)\n",
    "y_train = loan[outcome] \n",
    "\n",
    "X_test = pd.get_dummies(loan_test[predictors], prefix='', prefix_sep='', drop_first=True)\n",
    "y_test = loan_test[outcome] \n",
    "\n",
    "#C=1e42, regularization term, smaller = more regularization\n",
    "logit_reg = LogisticRegression(penalty='l2', C=1e42, solver='liblinear')\n",
    "logit_reg.fit(X_train, y_train)\n",
    "\n",
    "print('intercept ', logit_reg.intercept_[0])\n",
    "print('classes', logit_reg.classes_)\n",
    "pd.DataFrame({'coeff': logit_reg.coef_[0]}, \n",
    "             index=X_train.columns)"
   ]
  },
  {
   "cell_type": "markdown",
   "id": "076f2c95",
   "metadata": {},
   "source": [
    "## Evaluation - confusion matrix \n",
    "Precision, Recall, and Specificity"
   ]
  },
  {
   "cell_type": "code",
   "execution_count": null,
   "id": "581aae92",
   "metadata": {},
   "outputs": [],
   "source": [
    "tn, fp, fn, tp = confusion_matrix(y_test, logit_reg2.predict(X_test)).ravel()\n",
    "\n",
    "print('Accuracy: {}'.format((tn+tp)/(tn+fp+fn+tp)))\n",
    "print('Precision:   {}'.format(tp/(fp+tp))) \n",
    "print('Recall:     {}'.format(tp/(tp+fn)))\n",
    "print('Specificity: {}'.format(tn/(tn+fp)))"
   ]
  },
  {
   "cell_type": "code",
   "execution_count": null,
   "id": "1f8cc555",
   "metadata": {},
   "outputs": [],
   "source": [
    "from sklearn.metrics import classification_report\n",
    "\n",
    "target_names = ['paid off', 'default']\n",
    "print(classification_report(true_y, pred_y, target_names=target_names))"
   ]
  },
  {
   "cell_type": "markdown",
   "id": "e5e9471b",
   "metadata": {},
   "source": [
    "# Decision tree "
   ]
  },
  {
   "cell_type": "markdown",
   "id": "a244f8cc",
   "metadata": {},
   "source": [
    "use gini"
   ]
  },
  {
   "cell_type": "markdown",
   "id": "d3f90ad9",
   "metadata": {},
   "source": [
    "##  tree\n",
    "good for interpretation, segmentation, and insight "
   ]
  },
  {
   "cell_type": "code",
   "execution_count": null,
   "id": "b2f3ae30",
   "metadata": {},
   "outputs": [],
   "source": [
    "predictors = ['borrower_score', 'payment_inc_ratio']\n",
    "outcome = 'outcome'\n",
    "\n",
    "X = loan3000[predictors]\n",
    "y = loan3000[outcome]\n",
    "\n",
    "loan_tree = DecisionTreeClassifier(random_state=1, criterion='entropy',\n",
    "                                   min_impurity_decrease=0.003)\n",
    "loan_tree.fit(X, y)\n",
    "# check loan_tree.feature_importances_\n",
    "rf_all = RandomForestClassifier(n_estimators=200, random_state=1)\n",
    "rf_all.fit(X, y)\n",
    "rf_all.feature_importances_\n",
    "\n",
    "plotDecisionTree(loan_tree, feature_names=predictors, class_names=loan_tree.classes_)\n",
    "\n",
    "\n",
    "# random forest \n",
    "rf = RandomForestClassifier(n_estimators=500, random_state=1, \n",
    "                            oob_score=True)\n",
    "rf.fit(X, y)\n",
    "\n",
    "xgb = XGBClassifier(objective='binary:logistic', subsample=.63)\n",
    "print(xgb.fit(X, y))"
   ]
  },
  {
   "cell_type": "markdown",
   "id": "db14db98",
   "metadata": {},
   "source": [
    "any purity gain after tree split?"
   ]
  },
  {
   "cell_type": "code",
   "execution_count": null,
   "id": "cfd81936",
   "metadata": {},
   "outputs": [],
   "source": [
    "# results\n",
    "xgb_df = X.copy()\n",
    "xgb_df['prediction'] = xgb.predict(X)\n",
    "xgb_df['prob_default'] = xgb.predict_proba(X)[:, 0]\n",
    "print(xgb_df.head())"
   ]
  }
 ],
 "metadata": {
  "kernelspec": {
   "display_name": "Python 3 (ipykernel)",
   "language": "python",
   "name": "python3"
  },
  "language_info": {
   "codemirror_mode": {
    "name": "ipython",
    "version": 3
   },
   "file_extension": ".py",
   "mimetype": "text/x-python",
   "name": "python",
   "nbconvert_exporter": "python",
   "pygments_lexer": "ipython3",
   "version": "3.10.8"
  },
  "toc": {
   "base_numbering": 1,
   "nav_menu": {},
   "number_sections": true,
   "sideBar": true,
   "skip_h1_title": false,
   "title_cell": "Table of Contents",
   "title_sidebar": "Contents",
   "toc_cell": false,
   "toc_position": {
    "height": "calc(100% - 180px)",
    "left": "10px",
    "top": "150px",
    "width": "275px"
   },
   "toc_section_display": true,
   "toc_window_display": true
  },
  "varInspector": {
   "cols": {
    "lenName": 16,
    "lenType": 16,
    "lenVar": 40
   },
   "kernels_config": {
    "python": {
     "delete_cmd_postfix": "",
     "delete_cmd_prefix": "del ",
     "library": "var_list.py",
     "varRefreshCmd": "print(var_dic_list())"
    },
    "r": {
     "delete_cmd_postfix": ") ",
     "delete_cmd_prefix": "rm(",
     "library": "var_list.r",
     "varRefreshCmd": "cat(var_dic_list()) "
    }
   },
   "types_to_exclude": [
    "module",
    "function",
    "builtin_function_or_method",
    "instance",
    "_Feature"
   ],
   "window_display": false
  }
 },
 "nbformat": 4,
 "nbformat_minor": 5
}
