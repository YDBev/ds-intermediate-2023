{
 "cells": [
  {
   "cell_type": "markdown",
   "id": "35aabc08",
   "metadata": {},
   "source": [
    "# Capstone - Loan Status Prediction Machine Learning Model"
   ]
  },
  {
   "cell_type": "markdown",
   "id": "36df95e3",
   "metadata": {},
   "source": [
    "**Goal**: Build machine learning model(s) to predict loan status as target: if a loan will be charged-off (1), or stay current/are paid off (0). "
   ]
  },
  {
   "cell_type": "markdown",
   "id": "9c6f647f",
   "metadata": {
    "heading_collapsed": true
   },
   "source": [
    "##  Import packages"
   ]
  },
  {
   "cell_type": "code",
   "execution_count": 1,
   "id": "42ec5a14",
   "metadata": {
    "ExecuteTime": {
     "end_time": "2023-03-05T09:22:14.990386Z",
     "start_time": "2023-03-05T09:22:13.493541Z"
    },
    "hidden": true
   },
   "outputs": [
    {
     "name": "stdout",
     "output_type": "stream",
     "text": [
      "no display found. Using non-interactive Agg backend\n"
     ]
    }
   ],
   "source": [
    "# Install packages\n",
    "# import sys\n",
    "# !{sys.executable} -m pip install kneed\n",
    "\n",
    "# Get path \n",
    "import os\n",
    "from pathlib import Path # get path\n",
    "\n",
    "# Data wrangling\n",
    "import pandas as pd\n",
    "import numpy as np \n",
    "import math\n",
    "\n",
    "\n",
    "# Plotting\n",
    "%matplotlib inline\n",
    "import matplotlib.pyplot as plt\n",
    "import seaborn as sns\n",
    "from statsmodels.graphics.gofplots import qqplot # qqplot for data normality test\n",
    "\n",
    "# Statistical testing\n",
    "import scipy.stats as stats\n",
    "\n",
    "\n",
    "# Reporting\n",
    "from pandas_profiling import ProfileReport\n",
    "\n",
    "\n",
    "# PCA \n",
    "from sklearn.preprocessing import StandardScaler\n",
    "from sklearn.metrics.cluster import adjusted_rand_score\n",
    "from sklearn.decomposition import PCA\n",
    "from sklearn.pipeline import Pipeline\n",
    "\n",
    "\n",
    "#ML model building\n",
    "\n",
    "# Logistic regression\n",
    "from sklearn.preprocessing import MinMaxScaler\n",
    "from sklearn.linear_model import LogisticRegression #, LogisticRegressionCV\n",
    "from sklearn.tree import DecisionTreeClassifier\n",
    "from sklearn.model_selection import train_test_split\n",
    "from sklearn.metrics import classification_report\n",
    "from sklearn.metrics import confusion_matrix, precision_recall_fscore_support\n",
    "from sklearn.metrics import roc_curve, accuracy_score, roc_auc_score\n",
    "from sklearn.model_selection import GridSearchCV\n",
    "from dmba import classificationSummary"
   ]
  },
  {
   "cell_type": "markdown",
   "id": "81482040",
   "metadata": {
    "heading_collapsed": true
   },
   "source": [
    "## Load dataset¶"
   ]
  },
  {
   "cell_type": "code",
   "execution_count": 2,
   "id": "b8480262",
   "metadata": {
    "ExecuteTime": {
     "end_time": "2023-03-05T09:22:39.942325Z",
     "start_time": "2023-03-05T09:22:17.894514Z"
    },
    "hidden": true
   },
   "outputs": [
    {
     "name": "stderr",
     "output_type": "stream",
     "text": [
      "/var/folders/d5/0rs5hy6j79776c7g000ncxbm0000gn/T/ipykernel_22046/539946901.py:3: DtypeWarning: Columns (19,47,55,112,123,124,125,128,129,130,133,139,140,141) have mixed types. Specify dtype option on import or set low_memory=False.\n",
      "  train = pd.read_csv(data_path_train)\n"
     ]
    }
   ],
   "source": [
    "# load datasets\n",
    "data_path_train = Path('.').resolve().parents[1] / 'train_data.csv'\n",
    "train = pd.read_csv(data_path_train)\n",
    "data_path_test = Path('.').resolve().parents[1] / 'updated_test_data_20200728.csv'\n",
    "test = pd.read_csv(data_path_test)"
   ]
  },
  {
   "cell_type": "code",
   "execution_count": 98,
   "id": "0a5fedc2",
   "metadata": {
    "ExecuteTime": {
     "end_time": "2023-03-05T10:40:53.852498Z",
     "start_time": "2023-03-05T10:40:53.507304Z"
    },
    "hidden": true
   },
   "outputs": [],
   "source": [
    "test_copy = test.copy()"
   ]
  },
  {
   "cell_type": "code",
   "execution_count": 3,
   "id": "5ad96937",
   "metadata": {
    "ExecuteTime": {
     "end_time": "2023-03-05T09:22:44.781575Z",
     "start_time": "2023-03-05T09:22:44.656329Z"
    },
    "hidden": true
   },
   "outputs": [
    {
     "name": "stdout",
     "output_type": "stream",
     "text": [
      "train shape: (1827125, 145)\n",
      "test shape: (211627, 146)\n",
      "extra column from test to remove: ['index']\n"
     ]
    },
    {
     "data": {
      "text/plain": [
       "(211627, 145)"
      ]
     },
     "execution_count": 3,
     "metadata": {},
     "output_type": "execute_result"
    }
   ],
   "source": [
    "print(f'train shape: {train.shape}')\n",
    "print(f'test shape: {test.shape}')\n",
    "print(f'extra column from test to remove: {[i for i in test.columns.tolist() if i not in train.columns.tolist()]}')\n",
    "\n",
    "# Remove extra colummn\n",
    "tst = test.copy().drop(columns='index')\n",
    "tst.shape"
   ]
  },
  {
   "cell_type": "code",
   "execution_count": 4,
   "id": "75447ff5",
   "metadata": {
    "ExecuteTime": {
     "end_time": "2023-03-05T09:22:49.875053Z",
     "start_time": "2023-03-05T09:22:49.860894Z"
    },
    "hidden": true
   },
   "outputs": [
    {
     "data": {
      "text/plain": [
       "array([nan])"
      ]
     },
     "execution_count": 4,
     "metadata": {},
     "output_type": "execute_result"
    }
   ],
   "source": [
    "tst['loan_status'].unique()"
   ]
  },
  {
   "cell_type": "code",
   "execution_count": 5,
   "id": "fec891c0",
   "metadata": {
    "ExecuteTime": {
     "end_time": "2023-03-05T09:22:52.182317Z",
     "start_time": "2023-03-05T09:22:52.165342Z"
    },
    "hidden": true
   },
   "outputs": [
    {
     "data": {
      "text/plain": [
       "211627"
      ]
     },
     "execution_count": 5,
     "metadata": {},
     "output_type": "execute_result"
    }
   ],
   "source": [
    "tst['collection_recovery_fee'].unique()\n",
    "tst['out_prncp_inv'].unique()\n",
    "tst['recoveries'].isna().sum()\n",
    "tst['out_prncp'].isna().sum()"
   ]
  },
  {
   "cell_type": "markdown",
   "id": "3b2c36eb",
   "metadata": {
    "hidden": true
   },
   "source": [
    "test dataset:\n",
    "- loan_status to be filled in by test results\n",
    "- collection_recovery_fee, out_prncp_inv, 'out_prncp', 'recoveries', are empty in test not train"
   ]
  },
  {
   "cell_type": "markdown",
   "id": "85704576",
   "metadata": {},
   "source": [
    "# Prepare dataset\n",
    "\n",
    "Train from EDA. and remove ['emp_length','addr_state','sub_grade','all_util','mths_since_last_delinq']"
   ]
  },
  {
   "cell_type": "code",
   "execution_count": 10,
   "id": "de2eff08",
   "metadata": {
    "ExecuteTime": {
     "end_time": "2023-03-05T09:27:44.762165Z",
     "start_time": "2023-03-05T09:27:37.849317Z"
    }
   },
   "outputs": [],
   "source": [
    "df_test = tst\n",
    "\n",
    "#########\n",
    "na_tally = df_test.isna().sum().sort_values(ascending = False)\n",
    "df_test = df_test.drop(columns=na_tally[na_tally>df_test.shape[0]*0.9].index)\n",
    "    ###\n",
    "col_types = df_test.dtypes.to_frame('dtypes').reset_index()\n",
    "coln_obj = col_types[col_types['dtypes']=='O']['index'] \n",
    "coln_obj_drop = [i for i in coln_obj.tolist() if i not in ['term', 'grade', 'sub_grade', 'debt_settlement_flag', 'emp_length', 'purpose', 'addr_state',\n",
    "                                                           'issue_d', 'earliest_cr_line', 'last_pymnt_d', 'next_pymnt_d', 'last_credit_pull_d']]\n",
    "df_dropEDA = df_test.copy().drop(columns=coln_obj_drop+['policy_code', 'funded_amnt', 'funded_amnt_inv', 'total_pymnt_inv']+['installment', 'open_acc', 'total_rec_prncp', 'tot_cur_bal', 'total_bal_il', 'num_actv_rev_tl'])\n",
    "    ###\n",
    "df_dropEDA_date = pd.to_datetime(df_dropEDA[['earliest_cr_line', 'last_credit_pull_d']].stack(), infer_datetime_format=True).unstack()\n",
    "    # add to dropEDA set\n",
    "df_dropEDA_time = df_dropEDA.copy()\n",
    "df_dropEDA_time['cr_dur_yr'] = ((df_dropEDA_date['last_credit_pull_d'] - df_dropEDA_date['earliest_cr_line'])/pd.Timedelta('365 days')).astype(float)\n",
    "time_drop = ['issue_d', 'earliest_cr_line', 'last_pymnt_d', 'next_pymnt_d', 'last_credit_pull_d'] + ['mo_sin_rcnt_rev_tl_op',\n",
    "                                                                                                     'mo_sin_rcnt_tl', 'mths_since_recent_bc', 'mths_since_rcnt_il', 'mths_since_last_record', 'mths_since_recent_inq']\n",
    "df_dropEDA_time = df_dropEDA_time.drop(columns=time_drop)\n",
    "df_dropEDA_time_imp = df_dropEDA_time.drop(columns=['pct_tl_nvr_dlq', 'bc_open_to_buy', 'inq_fi', 'inq_last_12m', 'num_rev_accts', 'num_tl_120dpd_2m', 'percent_bc_gt_75',\n",
    "                      'open_acc_6m', 'open_rv_12m', 'open_il_24m', 'open_il_12m', 'open_act_il', 'open_rv_24m', 'total_cu_tl', 'il_util', 'bc_util','max_bal_bc','mo_sin_old_il_acct','mths_since_recent_revol_delinq','mths_since_recent_bc_dlq','mths_since_last_major_derog','avg_cur_bal'])\n",
    "### Drop \n",
    "df_dropEDA_time_imp = df_dropEDA_time_imp.drop(columns=['emp_length','addr_state','sub_grade','all_util','mths_since_last_delinq'])\n",
    "######\n",
    "\n",
    "test_ML = df_dropEDA_time_imp"
   ]
  },
  {
   "cell_type": "code",
   "execution_count": 11,
   "id": "ea38a548",
   "metadata": {
    "ExecuteTime": {
     "end_time": "2023-03-05T09:28:51.954959Z",
     "start_time": "2023-03-05T09:27:48.925067Z"
    }
   },
   "outputs": [],
   "source": [
    "df_train = train.copy()\n",
    "\n",
    "#########\n",
    "na_tally = df_train.isna().sum().sort_values(ascending = False)\n",
    "df_train = df_train.drop(columns=na_tally[na_tally>df_train.shape[0]*0.9].index)\n",
    "df_train['loan_status_dv'] = [0 if loan_status=='Fully Paid' or loan_status=='Current' else 1 for loan_status in df_train['loan_status']]\n",
    "    ###\n",
    "col_types = df_train.dtypes.to_frame('dtypes').reset_index()\n",
    "coln_obj = col_types[col_types['dtypes']=='O']['index'] \n",
    "coln_obj_drop = [i for i in coln_obj.tolist() if i not in ['term', 'grade', 'sub_grade', 'debt_settlement_flag', 'emp_length', 'purpose', 'addr_state',\n",
    "                                                           'issue_d', 'earliest_cr_line', 'last_pymnt_d', 'next_pymnt_d', 'last_credit_pull_d']]\n",
    "df_dropEDA = df_train.copy().drop(columns=coln_obj_drop+['policy_code', 'funded_amnt', 'funded_amnt_inv', 'out_prncp_inv', 'total_pymnt_inv']+['installment', 'open_acc', 'total_rec_prncp', 'collection_recovery_fee', 'tot_cur_bal', 'total_bal_il', 'num_actv_rev_tl'])\n",
    "    ###\n",
    "df_dropEDA_date = pd.to_datetime(df_dropEDA[['earliest_cr_line', 'last_credit_pull_d']].stack(), infer_datetime_format=True).unstack()\n",
    "    # add to dropEDA set\n",
    "df_dropEDA_time = df_dropEDA.copy()\n",
    "df_dropEDA_time['cr_dur_yr'] = ((df_dropEDA_date['last_credit_pull_d'] - df_dropEDA_date['earliest_cr_line'])/pd.Timedelta('365 days')).astype(float)\n",
    "time_drop = ['issue_d', 'earliest_cr_line', 'last_pymnt_d', 'next_pymnt_d', 'last_credit_pull_d'] + ['mo_sin_rcnt_rev_tl_op',\n",
    "                                                                                                     'mo_sin_rcnt_tl', 'mths_since_recent_bc', 'mths_since_rcnt_il', 'mths_since_last_record', 'mths_since_recent_inq']\n",
    "df_dropEDA_time = df_dropEDA_time.drop(columns=time_drop)\n",
    "df_dropEDA_time_imp = df_dropEDA_time.drop(columns=['pct_tl_nvr_dlq', 'bc_open_to_buy', 'inq_fi', 'inq_last_12m', 'num_rev_accts', 'num_tl_120dpd_2m', 'percent_bc_gt_75',\n",
    "                      'open_acc_6m', 'open_rv_12m', 'open_il_24m', 'open_il_12m', 'open_act_il', 'open_rv_24m', 'total_cu_tl', 'il_util', 'bc_util','max_bal_bc','mo_sin_old_il_acct','mths_since_recent_revol_delinq','mths_since_recent_bc_dlq','mths_since_last_major_derog','avg_cur_bal'])\n",
    "#### Drop\n",
    "df_dropEDA_time_imp = df_dropEDA_time_imp.drop(columns=['emp_length','addr_state','sub_grade','all_util','mths_since_last_delinq'])\n",
    "######\n",
    "\n",
    "train_ML = df_dropEDA_time_imp"
   ]
  },
  {
   "cell_type": "code",
   "execution_count": 12,
   "id": "4eafc763",
   "metadata": {
    "ExecuteTime": {
     "end_time": "2023-03-05T09:29:17.372136Z",
     "start_time": "2023-03-05T09:29:15.588437Z"
    }
   },
   "outputs": [
    {
     "data": {
      "text/plain": [
       "dti               1451\n",
       "inq_last_6mths       1\n",
       "revol_util        1414\n",
       "dtype: int64"
      ]
     },
     "execution_count": 12,
     "metadata": {},
     "output_type": "execute_result"
    }
   ],
   "source": [
    "train_ML.isna().sum()[train_ML.isna().sum().sort_values(ascending=False) > 0]"
   ]
  },
  {
   "cell_type": "code",
   "execution_count": 13,
   "id": "ad319cdc",
   "metadata": {
    "ExecuteTime": {
     "end_time": "2023-03-05T09:29:19.817562Z",
     "start_time": "2023-03-05T09:29:19.561445Z"
    }
   },
   "outputs": [
    {
     "data": {
      "text/plain": [
       "dti           178\n",
       "revol_util    153\n",
       "dtype: int64"
      ]
     },
     "execution_count": 13,
     "metadata": {},
     "output_type": "execute_result"
    }
   ],
   "source": [
    "test_ML.isna().sum()[test_ML.isna().sum().sort_values(ascending=False) > 0]"
   ]
  },
  {
   "cell_type": "code",
   "execution_count": 15,
   "id": "0deacb8d",
   "metadata": {
    "ExecuteTime": {
     "end_time": "2023-03-05T09:30:43.582575Z",
     "start_time": "2023-03-05T09:29:53.008942Z"
    }
   },
   "outputs": [],
   "source": [
    "# Impute dti \n",
    "train[train['dti'].isna()].index # get index with missing dti\n",
    "train_ML.loc[train[train['dti'].isna()].index, 'dti'] = train[train['dti'].isna()]['dti_joint'].values\n",
    "\n",
    "test[test['dti'].isna()].index # get index with missing dti\n",
    "test_ML.loc[test[test['dti'].isna()].index, 'dti'] = test[test['dti'].isna()]['dti_joint'].values\n",
    "\n",
    "# Impute inq_last_6mthsinquiries \n",
    "train_ML.loc[train_ML[train_ML['inq_last_6mths'].isna()].index, 'inq_last_6mths'] = math.ceil(train_ML['inq_last_6mths'].mean()) # Impute to 1\n",
    "\n",
    "\n",
    "# Impute revol_util \n",
    "train_ML.loc[train_ML[train_ML['revol_util'].isna()].index, 'revol_util'] = train_ML['revol_util'].mean() \n",
    "test_ML.loc[test_ML[test_ML['revol_util'].isna()].index, 'revol_util'] = test_ML['revol_util'].mean() "
   ]
  },
  {
   "cell_type": "code",
   "execution_count": 16,
   "id": "a5794b3b",
   "metadata": {
    "ExecuteTime": {
     "end_time": "2023-03-05T09:32:42.943193Z",
     "start_time": "2023-03-05T09:32:41.177648Z"
    }
   },
   "outputs": [
    {
     "data": {
      "text/plain": [
       "Series([], dtype: int64)"
      ]
     },
     "execution_count": 16,
     "metadata": {},
     "output_type": "execute_result"
    }
   ],
   "source": [
    "train_ML.isna().sum()[train_ML.isna().sum().sort_values(ascending=False) > 0]"
   ]
  },
  {
   "cell_type": "code",
   "execution_count": 17,
   "id": "2699ff20",
   "metadata": {
    "ExecuteTime": {
     "end_time": "2023-03-05T09:32:45.290345Z",
     "start_time": "2023-03-05T09:32:45.036828Z"
    }
   },
   "outputs": [
    {
     "data": {
      "text/plain": [
       "Series([], dtype: int64)"
      ]
     },
     "execution_count": 17,
     "metadata": {},
     "output_type": "execute_result"
    }
   ],
   "source": [
    "test_ML.isna().sum()[test_ML.isna().sum().sort_values(ascending=False) > 0]"
   ]
  },
  {
   "cell_type": "markdown",
   "id": "a255b9b3",
   "metadata": {},
   "source": [
    "## Check if two dataset has same columns\n",
    "Remove 'out_prncp', 'recoveries' in train_ML"
   ]
  },
  {
   "cell_type": "code",
   "execution_count": 18,
   "id": "80b53928",
   "metadata": {
    "ExecuteTime": {
     "end_time": "2023-03-05T09:32:50.479524Z",
     "start_time": "2023-03-05T09:32:50.469429Z"
    }
   },
   "outputs": [
    {
     "data": {
      "text/plain": [
       "['out_prncp', 'recoveries', 'loan_status_dv']"
      ]
     },
     "execution_count": 18,
     "metadata": {},
     "output_type": "execute_result"
    }
   ],
   "source": [
    "[i for i in train_ML.columns.tolist() if i not in test_ML.columns.tolist()]"
   ]
  },
  {
   "cell_type": "code",
   "execution_count": 19,
   "id": "25f2ab25",
   "metadata": {
    "ExecuteTime": {
     "end_time": "2023-03-05T09:32:54.470053Z",
     "start_time": "2023-03-05T09:32:54.460406Z"
    }
   },
   "outputs": [
    {
     "data": {
      "text/plain": [
       "[]"
      ]
     },
     "execution_count": 19,
     "metadata": {},
     "output_type": "execute_result"
    }
   ],
   "source": [
    "[i for i in test_ML.columns.tolist() if i not in train_ML.columns.tolist()]"
   ]
  },
  {
   "cell_type": "code",
   "execution_count": 20,
   "id": "44d1afd9",
   "metadata": {
    "ExecuteTime": {
     "end_time": "2023-03-05T09:32:57.167747Z",
     "start_time": "2023-03-05T09:32:56.589418Z"
    }
   },
   "outputs": [],
   "source": [
    "train_ML = train_ML.drop(columns=['out_prncp', 'recoveries'])"
   ]
  },
  {
   "cell_type": "code",
   "execution_count": 23,
   "id": "0027f2ca",
   "metadata": {
    "ExecuteTime": {
     "end_time": "2023-03-05T09:37:12.933688Z",
     "start_time": "2023-03-05T09:37:12.918576Z"
    }
   },
   "outputs": [
    {
     "name": "stdout",
     "output_type": "stream",
     "text": [
      "test_ML features: 45\n",
      "train_ML features: 46\n"
     ]
    }
   ],
   "source": [
    "print(f'test_ML features: {test_ML.shape[1]}')\n",
    "print(f'train_ML features: {train_ML.shape[1]}')"
   ]
  },
  {
   "cell_type": "code",
   "execution_count": 22,
   "id": "cf3c8483",
   "metadata": {
    "ExecuteTime": {
     "end_time": "2023-03-05T09:34:06.164833Z",
     "start_time": "2023-03-05T09:33:23.054915Z"
    }
   },
   "outputs": [],
   "source": [
    "#test_ML.to_csv('test_ML.csv')\n",
    "#train_ML.to_csv('train_ML.csv')"
   ]
  },
  {
   "cell_type": "markdown",
   "id": "c5e992e1",
   "metadata": {},
   "source": [
    "# Logistic Regression - base"
   ]
  },
  {
   "cell_type": "markdown",
   "id": "b89b0c60",
   "metadata": {},
   "source": [
    "test_ML_p = Path('.').resolve().parents[1] / 'test_ML.csv'\n",
    "train_ML_p = Path('.').resolve().parents[1] / 'train_ML.csv'\n",
    "\n",
    "train_ML = pd.read_csv(train_ML_p)\n",
    "test_ML = pd.read_csv(test_ML_p)"
   ]
  },
  {
   "cell_type": "code",
   "execution_count": 111,
   "id": "142393fe",
   "metadata": {
    "ExecuteTime": {
     "end_time": "2023-03-05T10:51:58.005127Z",
     "start_time": "2023-03-05T10:51:57.990188Z"
    }
   },
   "outputs": [
    {
     "name": "stdout",
     "output_type": "stream",
     "text": [
      "test_ML features: 45\n",
      "train_ML features: 46\n"
     ]
    }
   ],
   "source": [
    "print(f'test_ML features: {test_ML.shape[1]}')\n",
    "print(f'train_ML features: {train_ML.shape[1]}')"
   ]
  },
  {
   "cell_type": "markdown",
   "id": "5f42532a",
   "metadata": {},
   "source": [
    "## Define helper functions"
   ]
  },
  {
   "cell_type": "code",
   "execution_count": 43,
   "id": "56ded859",
   "metadata": {
    "ExecuteTime": {
     "end_time": "2023-03-05T09:53:54.345614Z",
     "start_time": "2023-03-05T09:53:54.335583Z"
    },
    "code_folding": []
   },
   "outputs": [],
   "source": [
    "def df_trn(df_train, df_test, features_drop=[]):\n",
    "    '''\n",
    "    One hot encoding and preparing dataset for training:\n",
    "    \n",
    "    df_train: dataset to be trained with features vetted\n",
    "    df_test: test dataset\n",
    "    features.\n",
    "    features_drop: features to be dropped.\n",
    "    '''\n",
    "    train_ML=df_train.drop(columns=features_drop)\n",
    "    \n",
    "    ##### One-hot for training set #####\n",
    "    trn_obj = train_ML.select_dtypes(include=['object'])\n",
    "    # One-hot encode the non-numeric columns\n",
    "    trn_onehot = pd.get_dummies(trn_obj, drop_first=True)\n",
    "\n",
    "    # Union the one-hot encoded columns to the numeric ones\n",
    "    trn_prep = pd.concat([train_ML.select_dtypes(exclude=['object']), trn_onehot], axis=1)\n",
    "\n",
    "    \n",
    "    test_ML=df_test.drop(columns=features_drop)\n",
    "    ##### One-hot for test dataset #####\n",
    "    tst_obj = test_ML.select_dtypes(include=['object'])  \n",
    "    # One-hot encode the non-numeric columns\n",
    "    tst_onehot = pd.get_dummies(tst_obj, drop_first=True)\n",
    "\n",
    "    # Union the one-hot encoded columns to the numeric ones\n",
    "    tst_prep = pd.concat([test_ML.select_dtypes(exclude=['object']), tst_onehot], axis=1)\n",
    "    \n",
    "    \n",
    "    # Drop extra redundant features in tst_prep such as 'loan_status' to make sure training set use the same dimension\n",
    "    trn_X=trn_prep.drop(columns=[i for i in trn_prep if i not in tst_prep])\n",
    "    \n",
    "    return trn_X, tst_prep"
   ]
  },
  {
   "cell_type": "code",
   "execution_count": 52,
   "id": "a116261f",
   "metadata": {
    "ExecuteTime": {
     "end_time": "2023-03-05T10:07:22.993013Z",
     "start_time": "2023-03-05T10:07:22.979342Z"
    },
    "code_folding": [
     0
    ]
   },
   "outputs": [],
   "source": [
    "def score(lr, v_val, v_pred):\n",
    "    '''\n",
    "    Scoring function given input of v_val and v_pred and logistic regression used.\n",
    "    '''\n",
    "    # Score\n",
    "    AUC_score = roc_auc_score(v_val, v_pred)\n",
    "    print(f'AUC_score: {AUC_score}')\n",
    "    print(classificationSummary(v_val, v_pred, class_names=lr.classes_))\n",
    "\n",
    "    tn, fp, fn, tp = confusion_matrix(v_val, v_pred).ravel()\n",
    "\n",
    "    print('Accuracy: {}'.format((tn+tp)/(tn+fp+fn+tp)))\n",
    "    print('Precision:   {}'.format(tp/(fp+tp))) \n",
    "    print('Recall:     {}'.format(tp/(tp+fn)))\n",
    "    print('Specificity: {}'.format(tn/(tn+fp)))\n",
    "    print('F1 SCORE for Default:  {}'.format(2*(tp/(fp+tp))*(tp/(tp+fn))/((tp/(fp+tp))+(tp/(tp+fn)))))\n",
    "    \n",
    "    return AUC_score"
   ]
  },
  {
   "cell_type": "code",
   "execution_count": 86,
   "id": "a00ab5fe",
   "metadata": {
    "ExecuteTime": {
     "end_time": "2023-03-05T10:32:29.244372Z",
     "start_time": "2023-03-05T10:32:29.227449Z"
    },
    "code_folding": []
   },
   "outputs": [],
   "source": [
    "def plot_AUCROC(lr, v_val, v_pred, v_pred_prob, Name):\n",
    "    %matplotlib inline\n",
    "    get_fpr_tpr_thresholds =roc_curve(v_val, v_pred_prob[1], pos_label=1)\n",
    "    fpr, tpr, thresholds = roc_curve(v_val, v_pred_prob[1], pos_label=1)\n",
    "    AUC_score = score(lr, v_val, v_pred)\n",
    "\n",
    "    plt.title(Name)\n",
    "    plt.plot(fpr, tpr, label = 'AUC = %0.4f' % AUC_score)\n",
    "    plt.legend(loc = 'lower right')\n",
    "    plt.plot([0, 1], [0, 1],'r--')\n",
    "    plt.xlim([0, 1.1])\n",
    "    plt.ylim([0, 1.1])\n",
    "    plt.ylabel('True Positive Rate')\n",
    "    plt.xlabel('False Positive Rate')\n",
    "    plt.fill_between(fpr, 0, tpr, alpha=0.2)\n",
    "    plt.show()\n",
    "    \n",
    "    return get_fpr_tpr_thresholds"
   ]
  },
  {
   "cell_type": "markdown",
   "id": "74d73f28",
   "metadata": {},
   "source": [
    "## Define training, validation, and testing sets from train_ML, test_ML\n",
    "X_train, X_val, v_train, v_val"
   ]
  },
  {
   "cell_type": "code",
   "execution_count": 155,
   "id": "870e53d2",
   "metadata": {
    "ExecuteTime": {
     "end_time": "2023-03-05T11:32:51.567781Z",
     "start_time": "2023-03-05T11:32:46.332383Z"
    }
   },
   "outputs": [],
   "source": [
    "trn_X, tst_prep = df_trn(train_ML,test_ML)\n",
    "# Split set to create test, validation, test sets\n",
    "# Drop the columns with NA where at least one element is missing.\n",
    "X = trn_X\n",
    "v = train_ML[['loan_status_dv']]\n",
    "\n",
    "X_train, X_val, v_train, v_val = train_test_split(X, v, test_size=0.2, random_state=2)\n",
    "y_train = tst_prep"
   ]
  },
  {
   "cell_type": "markdown",
   "id": "68453cee",
   "metadata": {},
   "source": [
    "## Base model"
   ]
  },
  {
   "cell_type": "code",
   "execution_count": 51,
   "id": "cf2f2bad",
   "metadata": {
    "ExecuteTime": {
     "end_time": "2023-03-05T10:07:16.509359Z",
     "start_time": "2023-03-05T10:06:04.320642Z"
    }
   },
   "outputs": [
    {
     "name": "stderr",
     "output_type": "stream",
     "text": [
      "/Users/dby/opt/anaconda3/envs/itmds2023/lib/python3.10/site-packages/sklearn/linear_model/_logistic.py:458: ConvergenceWarning: lbfgs failed to converge (status=1):\n",
      "STOP: TOTAL NO. of ITERATIONS REACHED LIMIT.\n",
      "\n",
      "Increase the number of iterations (max_iter) or scale the data as shown in:\n",
      "    https://scikit-learn.org/stable/modules/preprocessing.html\n",
      "Please also refer to the documentation for alternative solver options:\n",
      "    https://scikit-learn.org/stable/modules/linear_model.html#logistic-regression\n",
      "  n_iter_i = _check_optimize_result(\n"
     ]
    }
   ],
   "source": [
    "# Fit \n",
    "lr_0 = LogisticRegression(max_iter=1000)\n",
    "lr_0.fit(X_train, np.ravel(v_train))\n",
    "\n",
    "# Predict validation \n",
    "v_pred_0 = lr_0.predict(X_val)\n",
    "v_pred_prob_0 = pd.DataFrame(lr_0.predict_proba(X_val),\n",
    "                        columns=lr_0.classes_)\n",
    "\n",
    "# score\n",
    "# score(lr_0, v_val, v_pred_0)"
   ]
  },
  {
   "cell_type": "code",
   "execution_count": 160,
   "id": "42a25fa6",
   "metadata": {
    "ExecuteTime": {
     "end_time": "2023-03-05T11:42:51.611988Z",
     "start_time": "2023-03-05T11:42:51.262564Z"
    }
   },
   "outputs": [
    {
     "name": "stdout",
     "output_type": "stream",
     "text": [
      "AUC_score: 0.5004228876888006\n",
      "Confusion Matrix (Accuracy 0.9270)\n",
      "\n",
      "       Prediction\n",
      "Actual      0      1\n",
      "     0 338707    147\n",
      "     1  26537     34\n",
      "None\n",
      "Accuracy: 0.9269781760963262\n",
      "Precision:   0.1878453038674033\n",
      "Recall:     0.0012795905310300703\n",
      "Specificity: 0.9995661848465711\n",
      "F1 SCORE for Default:  0.002541866028708134\n"
     ]
    },
    {
     "data": {
      "image/png": "[encoded data removed]",
      "text/plain": [
       "<Figure size 640x480 with 1 Axes>"
      ]
     },
     "metadata": {},
     "output_type": "display_data"
    }
   ],
   "source": [
    "fpr_0, tpr_0, thresholds_0 = plot_AUCROC(lr_0, v_val, v_pred_0, v_pred_prob_0,'ROC_AUC Model base')"
   ]
  },
  {
   "cell_type": "code",
   "execution_count": 101,
   "id": "bae0fc44",
   "metadata": {
    "ExecuteTime": {
     "end_time": "2023-03-05T10:42:45.795213Z",
     "start_time": "2023-03-05T10:42:45.340302Z"
    }
   },
   "outputs": [
    {
     "name": "stderr",
     "output_type": "stream",
     "text": [
      "/Users/dby/opt/anaconda3/envs/itmds2023/lib/python3.10/site-packages/sklearn/base.py:413: UserWarning: X has feature names, but LogisticRegression was fitted without feature names\n",
      "  warnings.warn(\n",
      "/Users/dby/opt/anaconda3/envs/itmds2023/lib/python3.10/site-packages/sklearn/base.py:413: UserWarning: X has feature names, but LogisticRegression was fitted without feature names\n",
      "  warnings.warn(\n"
     ]
    },
    {
     "data": {
      "text/plain": [
       "0    211626\n",
       "1         1\n",
       "Name: loan_status_pred_0, dtype: int64"
      ]
     },
     "execution_count": 101,
     "metadata": {},
     "output_type": "execute_result"
    }
   ],
   "source": [
    "#test_copy = test.copy()\n",
    "# test set\n",
    "# fit test dataset\n",
    "y_pred_0 = lr_0.predict(y_train)\n",
    "y_pred_prob_0 = pd.DataFrame(lr_0.predict_proba(y_train),\n",
    "                        columns=lr_0.classes_)\n",
    "\n",
    "test_copy['loan_status_pred_0'] = y_pred_0\n",
    "test_copy['loan_status_pred_0'].value_counts()\n",
    "#test.to_csv('test_model.csv')"
   ]
  },
  {
   "cell_type": "markdown",
   "id": "93a968e1",
   "metadata": {},
   "source": [
    "## Normalization applied for nomalized data "
   ]
  },
  {
   "cell_type": "code",
   "execution_count": 157,
   "id": "7b7ebc5d",
   "metadata": {
    "ExecuteTime": {
     "end_time": "2023-03-05T11:33:22.545641Z",
     "start_time": "2023-03-05T11:33:17.595780Z"
    }
   },
   "outputs": [],
   "source": [
    "#trn_X, tst_prep = df_trn(train_ML,test_ML)\n",
    "#X = trn_X\n",
    "#v = train_ML[['loan_status_dv']]\n",
    "#y_train = tst_prep\n",
    "\n",
    "scale = MinMaxScaler()\n",
    "Xn = scale.fit_transform(X)\n",
    "\n",
    "Xn_train, Xn_val, vn_train, vn_val = train_test_split(Xn, v, test_size=0.2, random_state=2)\n",
    "yn_train = scale.fit_transform(y_train)"
   ]
  },
  {
   "cell_type": "code",
   "execution_count": 78,
   "id": "7e773fbf",
   "metadata": {
    "ExecuteTime": {
     "end_time": "2023-03-05T10:28:53.802561Z",
     "start_time": "2023-03-05T10:28:22.334468Z"
    }
   },
   "outputs": [],
   "source": [
    "# Fit use lr_0 = LogisticRegression(max_iter=1000)\n",
    "lr_0.fit(Xn_train, np.ravel(vn_train))\n",
    "\n",
    "# Predict validation \n",
    "v_pred_n0 = lr_0.predict(Xn_val)\n",
    "v_pred_prob_n0 = pd.DataFrame(lr_0.predict_proba(Xn_val),\n",
    "                        columns=lr_0.classes_)"
   ]
  },
  {
   "cell_type": "code",
   "execution_count": 100,
   "id": "af369ac0",
   "metadata": {
    "ExecuteTime": {
     "end_time": "2023-03-05T10:41:33.576769Z",
     "start_time": "2023-03-05T10:41:33.190563Z"
    }
   },
   "outputs": [
    {
     "name": "stdout",
     "output_type": "stream",
     "text": [
      "AUC_score: 0.5530698270846237\n",
      "Confusion Matrix (Accuracy 0.9319)\n",
      "\n",
      "       Prediction\n",
      "Actual      0      1\n",
      "     0 337620   1234\n",
      "     1  23654   2917\n",
      "None\n",
      "Accuracy: 0.9318930012998563\n",
      "Precision:   0.7027222356058781\n",
      "Recall:     0.10978134055925633\n",
      "Specificity: 0.9963583136099913\n",
      "F1 SCORE for Default:  0.18989649111385976\n"
     ]
    },
    {
     "data": {
      "image/png": "[encoded data removed]",
      "text/plain": [
       "<Figure size 640x480 with 1 Axes>"
      ]
     },
     "metadata": {},
     "output_type": "display_data"
    }
   ],
   "source": [
    "fpr_n0, tpr_n0, thresholds_n0 = plot_AUCROC(lr_0,vn_val, v_pred_n0, v_pred_prob_n0,'ROC_AUC Model base normalized')"
   ]
  },
  {
   "cell_type": "code",
   "execution_count": 103,
   "id": "a57b466b",
   "metadata": {
    "ExecuteTime": {
     "end_time": "2023-03-05T10:44:53.354096Z",
     "start_time": "2023-03-05T10:44:53.305592Z"
    }
   },
   "outputs": [
    {
     "data": {
      "text/plain": [
       "0    176159\n",
       "1     35468\n",
       "Name: loan_status_pred_n0, dtype: int64"
      ]
     },
     "execution_count": 103,
     "metadata": {},
     "output_type": "execute_result"
    }
   ],
   "source": [
    "#test_copy = test.copy()\n",
    "# test set\n",
    "# fit test dataset\n",
    "y_pred_n0 = lr_0.predict(yn_train)\n",
    "y_pred_prob_n0 = pd.DataFrame(lr_0.predict_proba(yn_train),\n",
    "                        columns=lr_0.classes_)\n",
    "\n",
    "test_copy['loan_status_pred_n0'] = y_pred_n0\n",
    "test_copy['loan_status_pred_n0'].value_counts()\n",
    "#test.to_csv('test_model.csv')"
   ]
  },
  {
   "cell_type": "markdown",
   "id": "1e28631d",
   "metadata": {},
   "source": [
    "# Logistic Regression - hyperparameter tuning\n",
    "Use normalized dataset\n",
    "\n",
    "(solver='newton-cholesky',penalty='l2',max_iter=1000,class_weight='balanced')\n",
    "\n",
    "\n",
    "Xn_train, Xn_val, vn_train, vn_val = train_test_split(Xn, v, test_size=0.2, random_state=2)\n",
    "\n",
    "yn_train = scale.fit_transform(y_train)\n",
    "\n",
    "45 features to train"
   ]
  },
  {
   "cell_type": "code",
   "execution_count": 150,
   "id": "21643f15",
   "metadata": {
    "ExecuteTime": {
     "end_time": "2023-03-05T11:13:57.226315Z",
     "start_time": "2023-03-05T11:13:51.169904Z"
    }
   },
   "outputs": [],
   "source": [
    "# Fit \n",
    "lr = LogisticRegression(solver='newton-cholesky',penalty='l2',max_iter=1000,class_weight='balanced')\n",
    "lr.fit(Xn_train, np.ravel(vn_train))\n",
    "\n",
    "# Predict validation \n",
    "v_pred_1 = lr.predict(Xn_val)\n",
    "v_pred_prob_1 = pd.DataFrame(lr.predict_proba(Xn_val),\n",
    "                        columns=lr.classes_)"
   ]
  },
  {
   "cell_type": "code",
   "execution_count": 151,
   "id": "724aeb6b",
   "metadata": {
    "ExecuteTime": {
     "end_time": "2023-03-05T11:13:59.444950Z",
     "start_time": "2023-03-05T11:13:59.080206Z"
    }
   },
   "outputs": [
    {
     "name": "stdout",
     "output_type": "stream",
     "text": [
      "AUC_score: 0.769252008903709\n",
      "Confusion Matrix (Accuracy 0.7170)\n",
      "\n",
      "       Prediction\n",
      "Actual      0      1\n",
      "     0 239951  98903\n",
      "     1   4507  22064\n",
      "None\n",
      "Accuracy: 0.7170144352466307\n",
      "Precision:   0.1823968520340258\n",
      "Recall:     0.8303789846072787\n",
      "Specificity: 0.7081250332001393\n",
      "F1 SCORE for Default:  0.29909582616004016\n"
     ]
    },
    {
     "data": {
      "image/png": "[encoded data removed]",
      "text/plain": [
       "<Figure size 640x480 with 1 Axes>"
      ]
     },
     "metadata": {},
     "output_type": "display_data"
    }
   ],
   "source": [
    "fpr_1, tpr_1, thresholds_1 = plot_AUCROC(lr,vn_val, v_pred_1, v_pred_prob_1,'ROC_AUC Model 1')"
   ]
  },
  {
   "cell_type": "code",
   "execution_count": 107,
   "id": "bb9ee20d",
   "metadata": {
    "ExecuteTime": {
     "end_time": "2023-03-05T10:50:11.204890Z",
     "start_time": "2023-03-05T10:50:11.112741Z"
    }
   },
   "outputs": [
    {
     "data": {
      "text/plain": [
       "0    176159\n",
       "1     35468\n",
       "Name: loan_status_pred_n0, dtype: int64"
      ]
     },
     "execution_count": 107,
     "metadata": {},
     "output_type": "execute_result"
    }
   ],
   "source": [
    "#test_copy = test.copy()\n",
    "# test set\n",
    "# fit test dataset\n",
    "y_pred_n0 = lr_0.predict(yn_train)\n",
    "y_pred_prob_n0 = pd.DataFrame(lr_0.predict_proba(yn_train),\n",
    "                        columns=lr_0.classes_)\n",
    "\n",
    "test_copy['loan_status_pred_1'] = y_pred_n0\n",
    "test_copy['loan_status_pred_1'].value_counts()\n",
    "#test.to_csv('test_model.csv')"
   ]
  },
  {
   "cell_type": "markdown",
   "id": "67755092",
   "metadata": {},
   "source": [
    "# Logistic Regression - model 2\n",
    "Remove more features"
   ]
  },
  {
   "attachments": {},
   "cell_type": "markdown",
   "id": "f90dcb66",
   "metadata": {},
   "source": [
    "Remove similar features and keep top features from model 1\n",
    "\n",
    "['debt_settlement_flag', 'term', 'num_op_rev_tl', 'num_tl_30dpd', 'num_tl_90g_dpd_24m', 'num_il_tl', 'num_bc_tl', 'num_bc_sats', 'num_actv_bc_tl', 'total_bc_limit', 'total_il_high_credit_limit', 'revol_util', 'mo_sin_old_rev_tl_op', 'num_sats', \n",
    "                     'acc_open_past_24mths','tot_hi_cred_lim','total_pymnt']"
   ]
  },
  {
   "cell_type": "code",
   "execution_count": 144,
   "id": "00208e93",
   "metadata": {
    "ExecuteTime": {
     "end_time": "2023-03-05T11:10:26.358478Z",
     "start_time": "2023-03-05T11:10:22.349778Z"
    }
   },
   "outputs": [],
   "source": [
    "features_drop = ['debt_settlement_flag','term', 'num_op_rev_tl', 'num_tl_30dpd', 'num_tl_90g_dpd_24m', 'num_il_tl', 'num_bc_tl', 'num_bc_sats', 'num_actv_bc_tl', 'total_bc_limit', 'total_il_high_credit_limit', 'revol_util', 'mo_sin_old_rev_tl_op', 'num_sats', \n",
    "                     'acc_open_past_24mths','tot_hi_cred_lim','total_pymnt']\n",
    "trn_X_dp, tst_prep_dp = df_trn(train_ML,test_ML,features_drop)\n",
    "# Split set to create test, validation, test sets\n",
    "# Drop the columns with NA where at least one element is missing.\n",
    "X_fdp = trn_X_dp\n",
    "v_fdp = train_ML[['loan_status_dv']]\n",
    "\n",
    "scale = MinMaxScaler()\n",
    "X_fdp = scale.fit_transform(X_fdp)\n",
    "\n",
    "X_train_fdp, X_val_fdp, v_train_fdp, v_val_fdp = train_test_split(X_fdp, v_fdp, test_size=0.2, random_state=2)\n",
    "y_train_fdp = tst_prep_dp\n",
    "y_train_fdp = scale.fit_transform(y_train_fdp)"
   ]
  },
  {
   "cell_type": "code",
   "execution_count": 145,
   "id": "3c07e87b",
   "metadata": {
    "ExecuteTime": {
     "end_time": "2023-03-05T11:10:30.622741Z",
     "start_time": "2023-03-05T11:10:26.924363Z"
    }
   },
   "outputs": [],
   "source": [
    "# Fit \n",
    "lr_2 = LogisticRegression(solver='newton-cholesky',penalty='l2',max_iter=1000,class_weight='balanced')\n",
    "lr_2.fit(X_train_fdp, np.ravel(v_train_fdp))\n",
    "\n",
    "# Predict validation \n",
    "v_pred_2 = lr_2.predict(X_val_fdp)\n",
    "v_pred_prob_2 = pd.DataFrame(lr_2.predict_proba(X_val_fdp),\n",
    "                        columns=lr_2.classes_)"
   ]
  },
  {
   "cell_type": "code",
   "execution_count": 146,
   "id": "f67999e7",
   "metadata": {
    "ExecuteTime": {
     "end_time": "2023-03-05T11:10:32.972286Z",
     "start_time": "2023-03-05T11:10:32.603285Z"
    }
   },
   "outputs": [
    {
     "name": "stdout",
     "output_type": "stream",
     "text": [
      "AUC_score: 0.7516603421605681\n",
      "Confusion Matrix (Accuracy 0.6932)\n",
      "\n",
      "       Prediction\n",
      "Actual      0      1\n",
      "     0 231536 107318\n",
      "     1   4782  21789\n",
      "None\n",
      "Accuracy: 0.6932339057262092\n",
      "Precision:   0.16876699172004617\n",
      "Recall:     0.8200293553121825\n",
      "Specificity: 0.6832913290089537\n",
      "F1 SCORE for Default:  0.2799239455799792\n"
     ]
    },
    {
     "data": {
      "image/png": "[encoded data removed]",
      "text/plain": [
       "<Figure size 640x480 with 1 Axes>"
      ]
     },
     "metadata": {},
     "output_type": "display_data"
    }
   ],
   "source": [
    "fpr_2, tpr_2, thresholds_2 = plot_AUCROC(lr_2,v_val_fdp, v_pred_2, v_pred_prob_2,'ROC_AUC Model 2')"
   ]
  },
  {
   "cell_type": "code",
   "execution_count": 147,
   "id": "03fafcbb",
   "metadata": {
    "ExecuteTime": {
     "end_time": "2023-03-05T11:10:41.692261Z",
     "start_time": "2023-03-05T11:10:41.625272Z"
    }
   },
   "outputs": [
    {
     "data": {
      "text/plain": [
       "0    164574\n",
       "1     47053\n",
       "Name: loan_status_pred_2, dtype: int64"
      ]
     },
     "execution_count": 147,
     "metadata": {},
     "output_type": "execute_result"
    }
   ],
   "source": [
    "#test_copy = test.copy()\n",
    "# test set\n",
    "# fit test dataset\n",
    "y_pred_2 = lr_2.predict(y_train_fdp)\n",
    "y_pred_prob_2 = pd.DataFrame(lr_2.predict_proba(y_train_fdp),\n",
    "                        columns=lr_2.classes_)\n",
    "\n",
    "test_copy['loan_status_pred_2'] = y_pred_2\n",
    "test_copy['loan_status_pred_2'].value_counts()\n",
    "#test.to_csv('test_model.csv')"
   ]
  },
  {
   "cell_type": "code",
   "execution_count": 148,
   "id": "3e0d3320",
   "metadata": {
    "ExecuteTime": {
     "end_time": "2023-03-05T11:10:45.234497Z",
     "start_time": "2023-03-05T11:10:45.229517Z"
    },
    "scrolled": true
   },
   "outputs": [
    {
     "name": "stdout",
     "output_type": "stream",
     "text": [
      "tst_prep_dp features: 44\n",
      "trn_X_dp features: 44\n"
     ]
    }
   ],
   "source": [
    "print(f'tst_prep_dp features: {tst_prep_dp .shape[1]}')\n",
    "print(f'trn_X_dp features: {trn_X_dp.shape[1]}')"
   ]
  },
  {
   "cell_type": "markdown",
   "id": "8bf89f12",
   "metadata": {},
   "source": [
    "# Logistic Regression - model 3\n",
    "(solver='saga',penalty='l1',max_iter=1000,class_weight='balanced')"
   ]
  },
  {
   "cell_type": "code",
   "execution_count": 152,
   "id": "da8236f2",
   "metadata": {
    "ExecuteTime": {
     "end_time": "2023-03-05T11:27:23.575538Z",
     "start_time": "2023-03-05T11:15:38.485827Z"
    }
   },
   "outputs": [],
   "source": [
    "# Fit \n",
    "lr_3 = LogisticRegression(solver='saga',penalty='l1',max_iter=1000,class_weight='balanced')\n",
    "lr_3.fit(Xn_train, np.ravel(vn_train))\n",
    "\n",
    "# Predict validation \n",
    "v_pred_3 = lr_3.predict(Xn_val)\n",
    "v_pred_prob_3 = pd.DataFrame(lr_3.predict_proba(Xn_val),\n",
    "                        columns=lr_3.classes_)"
   ]
  },
  {
   "cell_type": "code",
   "execution_count": 159,
   "id": "acf4ac4c",
   "metadata": {
    "ExecuteTime": {
     "end_time": "2023-03-05T11:38:50.688191Z",
     "start_time": "2023-03-05T11:38:50.245460Z"
    }
   },
   "outputs": [
    {
     "name": "stdout",
     "output_type": "stream",
     "text": [
      "AUC_score: 0.7700642155431277\n",
      "Confusion Matrix (Accuracy 0.7192)\n",
      "\n",
      "       Prediction\n",
      "Actual      0      1\n",
      "     0 240782  98072\n",
      "     1   4529  22042\n",
      "None\n",
      "Accuracy: 0.7192282958199356\n",
      "Precision:   0.18350899978353896\n",
      "Recall:     0.829551014263671\n",
      "Specificity: 0.7105774168225844\n",
      "F1 SCORE for Default:  0.30053516037768\n"
     ]
    },
    {
     "data": {
      "image/png": "[encoded data removed]",
      "text/plain": [
       "<Figure size 640x480 with 1 Axes>"
      ]
     },
     "metadata": {},
     "output_type": "display_data"
    }
   ],
   "source": [
    "fpr_3, tpr_3, thresholds_3 = plot_AUCROC(lr_3,vn_val, v_pred_3, v_pred_prob_3,'ROC_AUC Model 3')"
   ]
  },
  {
   "cell_type": "code",
   "execution_count": 158,
   "id": "676d5b97",
   "metadata": {
    "ExecuteTime": {
     "end_time": "2023-03-05T11:33:37.407276Z",
     "start_time": "2023-03-05T11:33:37.326176Z"
    }
   },
   "outputs": [
    {
     "data": {
      "text/plain": [
       "0    120814\n",
       "1     90813\n",
       "Name: loan_status_pred_3, dtype: int64"
      ]
     },
     "execution_count": 158,
     "metadata": {},
     "output_type": "execute_result"
    }
   ],
   "source": [
    "# test_copy = test.copy()\n",
    "# test set\n",
    "# fit test dataset\n",
    "y_pred_3 = lr_3.predict(yn_train)\n",
    "y_pred_prob_3 = pd.DataFrame(lr_3.predict_proba(yn_train),\n",
    "                        columns=lr_3.classes_)\n",
    "\n",
    "test_copy['loan_status_pred_3'] = y_pred_3\n",
    "test_copy['loan_status_pred_3'].value_counts()\n",
    "test.to_csv('test_model.csv')"
   ]
  },
  {
   "cell_type": "markdown",
   "id": "c8baa5ec",
   "metadata": {},
   "source": [
    "# Score summary"
   ]
  },
  {
   "cell_type": "code",
   "execution_count": 175,
   "id": "c16f4c35",
   "metadata": {
    "ExecuteTime": {
     "end_time": "2023-03-05T11:56:47.068999Z",
     "start_time": "2023-03-05T11:56:46.325220Z"
    }
   },
   "outputs": [
    {
     "name": "stdout",
     "output_type": "stream",
     "text": [
      "AUC_score: 0.5004228876888006\n",
      "Confusion Matrix (Accuracy 0.9270)\n",
      "\n",
      "       Prediction\n",
      "Actual      0      1\n",
      "     0 338707    147\n",
      "     1  26537     34\n",
      "None\n",
      "Accuracy: 0.9269781760963262\n",
      "Precision:   0.1878453038674033\n",
      "Recall:     0.0012795905310300703\n",
      "Specificity: 0.9995661848465711\n",
      "F1 SCORE for Default:  0.002541866028708134\n",
      "AUC_score: 0.5530698270846237\n",
      "Confusion Matrix (Accuracy 0.9319)\n",
      "\n",
      "       Prediction\n",
      "Actual      0      1\n",
      "     0 337620   1234\n",
      "     1  23654   2917\n",
      "None\n",
      "Accuracy: 0.9318930012998563\n",
      "Precision:   0.7027222356058781\n",
      "Recall:     0.10978134055925633\n",
      "Specificity: 0.9963583136099913\n",
      "F1 SCORE for Default:  0.18989649111385976\n",
      "AUC_score: 0.769252008903709\n",
      "Confusion Matrix (Accuracy 0.7170)\n",
      "\n",
      "       Prediction\n",
      "Actual      0      1\n",
      "     0 239951  98903\n",
      "     1   4507  22064\n",
      "None\n",
      "Accuracy: 0.7170144352466307\n",
      "Precision:   0.1823968520340258\n",
      "Recall:     0.8303789846072787\n",
      "Specificity: 0.7081250332001393\n",
      "F1 SCORE for Default:  0.29909582616004016\n",
      "AUC_score: 0.7516603421605681\n",
      "Confusion Matrix (Accuracy 0.6932)\n",
      "\n",
      "       Prediction\n",
      "Actual      0      1\n",
      "     0 231536 107318\n",
      "     1   4782  21789\n",
      "None\n",
      "Accuracy: 0.6932339057262092\n",
      "Precision:   0.16876699172004617\n",
      "Recall:     0.8200293553121825\n",
      "Specificity: 0.6832913290089537\n",
      "F1 SCORE for Default:  0.2799239455799792\n",
      "AUC_score: 0.7700642155431277\n",
      "Confusion Matrix (Accuracy 0.7192)\n",
      "\n",
      "       Prediction\n",
      "Actual      0      1\n",
      "     0 240782  98072\n",
      "     1   4529  22042\n",
      "None\n",
      "Accuracy: 0.7192282958199356\n",
      "Precision:   0.18350899978353896\n",
      "Recall:     0.829551014263671\n",
      "Specificity: 0.7105774168225844\n",
      "F1 SCORE for Default:  0.30053516037768\n"
     ]
    },
    {
     "data": {
      "image/png": "[encoded data removed]",
      "text/plain": [
       "<Figure size 640x480 with 1 Axes>"
      ]
     },
     "metadata": {},
     "output_type": "display_data"
    }
   ],
   "source": [
    "%matplotlib inline\n",
    "\n",
    "fpr = [fpr_0, fpr_n0, fpr_1, fpr_2, fpr_3];\n",
    "tpr = [tpr_0, tpr_n0, tpr_1, tpr_2, tpr_3];\n",
    "\n",
    "AUC_score_0 =score(lr_0, v_val, v_pred_0);\n",
    "AUC_score_n0 =score(lr_0,vn_val, v_pred_n0);\n",
    "AUC_score_1 =score(lr,vn_val, v_pred_1);\n",
    "AUC_score_2 =score(lr_2,vn_val, v_pred_2);\n",
    "AUC_score_3 =score(lr_3,vn_val, v_pred_3);\n",
    "AUC_score = [AUC_score_0,AUC_score_n0,AUC_score_1,AUC_score_2,AUC_score_3];\n",
    "\n",
    "label = ['base','base normalized', 'Newton', 'Feature dropped', 'Saga'];\n",
    "\n",
    "for i, element in enumerate(fpr):\n",
    "    plt.plot(fpr[i],tpr[i], label = f'AUC {label[i]}= %0.4f' % AUC_score[i])\n",
    "plt.title('ROC_AUC Summary')\n",
    "plt.legend(loc = 'lower right')\n",
    "plt.plot([0, 1], [0, 1],'r--')\n",
    "plt.xlim([0, 1.1])\n",
    "plt.ylim([0, 1.1])\n",
    "plt.ylabel('True Positive Rate')\n",
    "plt.xlabel('False Positive Rate')\n",
    "plt.show()\n",
    "\n",
    "#fpr_n0, tpr_n0, thresholds_n0 = plot_AUCROC(lr_0,vn_val, v_pred_n0, v_pred_prob_n0,'ROC_AUC Model base normalized')\n",
    "#fpr_0, tpr_0, thresholds_0 = plot_AUCROC(lr_0, v_val, v_pred_0, v_pred_prob_0,'ROC_AUC Model base')\n",
    "#fpr_1, tpr_1, thresholds_1 = plot_AUCROC(lr,vn_val, v_pred_1, v_pred_prob_1,'ROC_AUC Model 1')\n",
    "#fpr_2, tpr_2, thresholds_2 = plot_AUCROC(lr_2,v_val_fdp, v_pred_2, v_pred_prob_2,'ROC_AUC Model 2')\n",
    "#fpr_3, tpr_3, thresholds_3 = plot_AUCROC(lr_3,vn_val, v_pred_3, v_pred_prob_3,'ROC_AUC Model 3')"
   ]
  },
  {
   "cell_type": "markdown",
   "id": "999bd2c6",
   "metadata": {},
   "source": [
    "# Export results"
   ]
  },
  {
   "cell_type": "code",
   "execution_count": 181,
   "id": "a43c2001",
   "metadata": {
    "ExecuteTime": {
     "end_time": "2023-03-05T12:22:04.509745Z",
     "start_time": "2023-03-05T12:21:50.568917Z"
    }
   },
   "outputs": [],
   "source": [
    "# test.to_csv('test_model.csv')"
   ]
  }
 ],
 "metadata": {
  "kernelspec": {
   "display_name": "Python 3 (ipykernel)",
   "language": "python",
   "name": "python3"
  },
  "language_info": {
   "codemirror_mode": {
    "name": "ipython",
    "version": 3
   },
   "file_extension": ".py",
   "mimetype": "text/x-python",
   "name": "python",
   "nbconvert_exporter": "python",
   "pygments_lexer": "ipython3",
   "version": "3.10.9"
  },
  "toc": {
   "base_numbering": 1,
   "nav_menu": {},
   "number_sections": true,
   "sideBar": true,
   "skip_h1_title": false,
   "title_cell": "Table of Contents",
   "title_sidebar": "Contents",
   "toc_cell": false,
   "toc_position": {
    "height": "calc(100% - 180px)",
    "left": "10px",
    "top": "150px",
    "width": "233px"
   },
   "toc_section_display": true,
   "toc_window_display": true
  },
  "varInspector": {
   "cols": {
    "lenName": 16,
    "lenType": 16,
    "lenVar": 40
   },
   "kernels_config": {
    "python": {
     "delete_cmd_postfix": "",
     "delete_cmd_prefix": "del ",
     "library": "var_list.py",
     "varRefreshCmd": "print(var_dic_list())"
    },
    "r": {
     "delete_cmd_postfix": ") ",
     "delete_cmd_prefix": "rm(",
     "library": "var_list.r",
     "varRefreshCmd": "cat(var_dic_list()) "
    }
   },
   "types_to_exclude": [
    "module",
    "function",
    "builtin_function_or_method",
    "instance",
    "_Feature"
   ],
   "window_display": false
  }
 },
 "nbformat": 4,
 "nbformat_minor": 5
}
